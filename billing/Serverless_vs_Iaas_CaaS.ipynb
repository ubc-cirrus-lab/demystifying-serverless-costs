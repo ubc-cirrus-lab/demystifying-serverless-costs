{
 "cells": [
  {
   "cell_type": "markdown",
   "metadata": {},
   "source": [
    "## Cost Comparison: Serverless vs IaaS/CaaS"
   ]
  },
  {
   "cell_type": "code",
   "execution_count": 11,
   "metadata": {},
   "outputs": [
    {
     "name": "stdout",
     "output_type": "stream",
     "text": [
      "================================================================================\n",
      "Cost Comparison: Serverless vs IaaS/CaaS\n",
      "--------------------------------------------------------------------------------\n"
     ]
    }
   ],
   "source": [
    "print(\"=\"*80)\n",
    "print(\"Cost Comparison: Serverless vs IaaS/CaaS\")\n",
    "print(\"-\"*80)"
   ]
  },
  {
   "cell_type": "code",
   "execution_count": 1,
   "metadata": {},
   "outputs": [],
   "source": [
    "P_LAMBDA_ARM_PER_GBS = 0.0000133334 # https://aws.amazon.com/lambda/pricing/\n",
    "P_EC2_C6GMID_PER_HOUR = 0.034 # https://aws.amazon.com/ec2/pricing/on-demand/\n",
    "P_EBS_PER_GBMONTH = 0.08 # https://aws.amazon.com/ebs/pricing/\n",
    "P_FARGATE_CPU_PER_VCPUHOUR = 0.03238 # https://aws.amazon.com/fargate/pricing/\n",
    "P_FARGATE_MEMORY_PER_GBHOUR = 0.00356 # https://aws.amazon.com/fargate/pricing/\n",
    "P_FARGATE_STORAGE_PER_GBHOUR = 0.000111 # https://aws.amazon.com/fargate/pricing/"
   ]
  },
  {
   "cell_type": "code",
   "execution_count": 2,
   "metadata": {},
   "outputs": [
    {
     "name": "stdout",
     "output_type": "stream",
     "text": [
      "AWS Lambda price per second:  2.30339693359375e-05\n"
     ]
    }
   ],
   "source": [
    "price_aws_lambda = P_LAMBDA_ARM_PER_GBS * 1769 / 1024\n",
    "print(\"AWS Lambda price per second: \", price_aws_lambda)"
   ]
  },
  {
   "cell_type": "code",
   "execution_count": 3,
   "metadata": {},
   "outputs": [
    {
     "name": "stdout",
     "output_type": "stream",
     "text": [
      "AWS EC2 price per second:  9.47530864197531e-06\n"
     ]
    }
   ],
   "source": [
    "price_ec2 = P_EC2_C6GMID_PER_HOUR / 3600 + P_EBS_PER_GBMONTH / (30 * 24 * 3600)\n",
    "print(\"AWS EC2 price per second: \", price_ec2)"
   ]
  },
  {
   "cell_type": "code",
   "execution_count": 4,
   "metadata": {},
   "outputs": [
    {
     "name": "stdout",
     "output_type": "stream",
     "text": [
      "AWS Fargate price per second:  1.1003055555555554e-05\n"
     ]
    }
   ],
   "source": [
    "price_fargate = P_FARGATE_CPU_PER_VCPUHOUR / 3600 + P_FARGATE_MEMORY_PER_GBHOUR / 3600 * 2 + P_FARGATE_STORAGE_PER_GBHOUR / 3600\n",
    "print(\"AWS Fargate price per second: \", price_fargate)"
   ]
  },
  {
   "cell_type": "code",
   "execution_count": 5,
   "metadata": {},
   "outputs": [
    {
     "name": "stdout",
     "output_type": "stream",
     "text": [
      "AWS EC2 is 41.136238846997045% the price of AWS Lambda\n",
      "AWS Fargate is 47.76882088832442% the price of AWS Lambda\n"
     ]
    }
   ],
   "source": [
    "print(f\"AWS EC2 is {price_ec2 / price_aws_lambda  * 100}% the price of AWS Lambda\")\n",
    "print(f\"AWS Fargate is {price_fargate / price_aws_lambda  * 100}% the price of AWS Lambda\")"
   ]
  },
  {
   "cell_type": "code",
   "execution_count": null,
   "metadata": {},
   "outputs": [],
   "source": []
  }
 ],
 "metadata": {
  "kernelspec": {
   "display_name": "venv",
   "language": "python",
   "name": "python3"
  },
  "language_info": {
   "codemirror_mode": {
    "name": "ipython",
    "version": 3
   },
   "file_extension": ".py",
   "mimetype": "text/x-python",
   "name": "python",
   "nbconvert_exporter": "python",
   "pygments_lexer": "ipython3",
   "version": "3.12.3"
  }
 },
 "nbformat": 4,
 "nbformat_minor": 2
}
