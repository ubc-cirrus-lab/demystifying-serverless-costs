{
 "cells": [
  {
   "cell_type": "markdown",
   "metadata": {},
   "source": [
    "# Invocation Fees and Billing Granularities"
   ]
  },
  {
   "cell_type": "code",
   "execution_count": 1,
   "metadata": {},
   "outputs": [],
   "source": [
    "import os\n",
    "import json\n",
    "import numpy as np\n",
    "from matplotlib import pyplot as plt\n",
    "import re\n",
    "import math\n",
    "import matplotlib.lines as mlines\n",
    "from datetime import datetime\n",
    "from dateutil import parser\n",
    "import pickle\n",
    "import pandas as pd\n",
    "from collections import defaultdict\n",
    "from collections import OrderedDict\n",
    "import matplotlib.patches as patches\n",
    "from matplotlib.lines import Line2D\n",
    "import matplotlib.patheffects as path_effects\n",
    "from matplotlib.ticker import FormatStrFormatter\n",
    "import os\n",
    "import seaborn as sns\n",
    "import gc"
   ]
  },
  {
   "cell_type": "code",
   "execution_count": 2,
   "metadata": {},
   "outputs": [
    {
     "name": "stdout",
     "output_type": "stream",
     "text": [
      "================================================================================\n",
      "Invocation Fees and Billing Granularities\n",
      "--------------------------------------------------------------------------------\n"
     ]
    }
   ],
   "source": [
    "print(\"=\"*80)\n",
    "print(\"Invocation Fees and Billing Granularities\")\n",
    "print(\"-\"*80)"
   ]
  },
  {
   "cell_type": "code",
   "execution_count": 3,
   "metadata": {},
   "outputs": [],
   "source": [
    "# ensure figures dir exists\n",
    "os.makedirs('figures', exist_ok=True)"
   ]
  },
  {
   "cell_type": "markdown",
   "metadata": {},
   "source": [
    "## Serverless Prices"
   ]
  },
  {
   "cell_type": "code",
   "execution_count": 4,
   "metadata": {},
   "outputs": [],
   "source": [
    "# AWS Lambda\n",
    "P_LAMBDA_PER_GBS = 0.0000166667 # https://aws.amazon.com/lambda/pricing/ # CPU proportionally allocated. 1vCPU under 1769MB\n",
    "P_LAMBDA_INVOCATION_FEE = 0.2 / 1000000\n",
    "\n",
    "# GCP Cloud Run request-based\n",
    "P_GCP_CPU_PER_VCPUSECOND = 0.00002400 # https://cloud.google.com/run/pricing\n",
    "P_GCP_MEMORY_PER_GBSECOND = 0.00000250  # https://cloud.google.com/run/pricing\n",
    "P_GCP_INVOCATION_FEE = 0.4 / 1000000 # https://cloud.google.com/run/pricing\n",
    "\n",
    "# Azure Functions consumption plan\n",
    "P_AZURE_COONSUMPTION_PER_GBS = 0.000016 # https://azure.microsoft.com/en-us/pricing/details/functions/\n",
    "P_AZURE_FLEX_COONSUMPTION_PER_GBS = 0.000026 # https://azure.microsoft.com/en-us/pricing/details/functions/\n",
    "P_AZURE_CONSUMPTION_INVOCATION_FEE = 0.2 / 1000000 # https://azure.microsoft.com/en-us/pricing/details/functions/\n",
    "P_AZURE_FLEX_CONSUMPTION_INVOCATION_FEE = 0.4 / 1000000 # https://azure.microsoft.com/en-us/pricing/details/functions/\n",
    "# Consumption plan is limited, typically to 1.5 GB of memory and one CPU\n",
    "\n",
    "# IBM Code Engine Functions\n",
    "P_IBM_CPU_PER_VCPUSECOND = 0.00003431 # https://cloud.ibm.com/containers/serverless/overview\n",
    "P_IBM_MEMORY_PER_GBSECOND = 0.00000356 # https://cloud.ibm.com/containers/serverless/overview\n",
    "P_IBM_INVOCATION_FEE = 0.538 / 1000000 # https://cloud.ibm.com/containers/serverless/overview\n",
    "\n",
    "# Huawei FunctionGraph\n",
    "P_HUAWEI_PER_GBS = 0.00001667 # https://www.huaweicloud.com/intl/en-us/pricing/calculator.html?tab=detail#/function\n",
    "P_HUAWEI_INVOCATION_FEE = 0.2 / 1000000 # https://www.huaweicloud.com/intl/en-us/pricing/calculator.html?tab=detail#/function\n",
    "\n",
    "# Alibaba Cloud Function Compute\n",
    "P_ALIBABA_CPU_PER_VCPUSECOND = 1 * 0.000020 # https://www.alibabacloud.com/help/en/functioncompute/fc-2-0/product-overview/pay-as-you-go-billing-method?spm=a2c63.p38356.help-menu-2508973.d_0_3_3.26923fe1BiuSBt\n",
    "P_ALIBABA_MEMORY_PER_GBSECOND = 0.15 * 0.000020 # https://www.alibabacloud.com/help/en/functioncompute/fc-2-0/product-overview/pay-as-you-go-billing-method?spm=a2c63.p38356.help-menu-2508973.d_0_3_3.26923fe1BiuSBt\n",
    "P_ALIBABA_INVOCATION_FEE = 75/10,000* 0.000020 # https://www.alibabacloud.com/help/en/functioncompute/fc-2-0/product-overview/pay-as-you-go-billing-method?spm=a2c63.p38356.help-menu-2508973.d_0_3_3.26923fe1BiuSBt\n",
    "\n",
    "# Oracle Cloud Functions\n",
    "P_ORACLE_PER_GBS = 0.00001417 # https://www.oracle.com/ca-en/cloud/price-list/#pricing-containers\n",
    "P_ORACLE_INVOCATION_FEE = 0.0000002\n",
    "\n",
    "# Vercel Functions\n",
    "P_VERCEL_PER_GBS = 0.18 / 3600 # https://vercel.com/docs/functions/usage-and-pricing\n",
    "P_VERCEL_INVOCATION_FEE = 0.60 / 1000000\n",
    "\n",
    "# Cloudflare Workers\n",
    "P_CLOUDFLARE_CPU_PER_MS = 0.02 / 1000000 # https://developers.cloudflare.com/workers/platform/pricing/\n",
    "P_CLOUDFLARE_INVOCATION_FEE = 0.3 / 1000000 # https://developers.cloudflare.com/workers/platform/pricing/"
   ]
  },
  {
   "cell_type": "code",
   "execution_count": 5,
   "metadata": {},
   "outputs": [],
   "source": [
    "def calculate_aws_equivalent_ms(vcpus):\n",
    "    mem = np.ceil(vcpus * 1769)\n",
    "    mem_gb = mem / 1024\n",
    "    equivalent_wall_time_ms = P_LAMBDA_INVOCATION_FEE / (P_LAMBDA_PER_GBS * mem_gb) * 1000\n",
    "    return equivalent_wall_time_ms"
   ]
  },
  {
   "cell_type": "code",
   "execution_count": 6,
   "metadata": {},
   "outputs": [
    {
     "name": "stdout",
     "output_type": "stream",
     "text": [
      "On AWS Lambda, a fixed invocation fee of 2.0000000000000002e-07 is equivalent to 96.0ms of billable wall-clock time for a function with the default 128MB memory configuration.\n"
     ]
    }
   ],
   "source": [
    "print(f\"On AWS Lambda, a fixed invocation fee of {P_LAMBDA_INVOCATION_FEE} is equivalent to {np.ceil(calculate_aws_equivalent_ms(128/1769))}ms of billable wall-clock time for a function with the default 128MB memory configuration.\")"
   ]
  },
  {
   "cell_type": "code",
   "execution_count": 7,
   "metadata": {},
   "outputs": [],
   "source": [
    "def caclulate_gcp_equivalent_ms(vcpus, memory_mb=512):\n",
    "    equivalent_wall_time_ms = P_GCP_INVOCATION_FEE / (P_GCP_CPU_PER_VCPUSECOND * vcpus + P_GCP_MEMORY_PER_GBSECOND * memory_mb / 1024) * 1000\n",
    "    return equivalent_wall_time_ms"
   ]
  },
  {
   "cell_type": "code",
   "execution_count": 8,
   "metadata": {},
   "outputs": [],
   "source": [
    "def calculate_azure_equivalent_ms(vcpus=1, memory_mb=1.5*1024):\n",
    "    equivalent_wall_time_ms = P_AZURE_CONSUMPTION_INVOCATION_FEE / P_AZURE_COONSUMPTION_PER_GBS * 1000\n",
    "    return equivalent_wall_time_ms"
   ]
  },
  {
   "cell_type": "code",
   "execution_count": 9,
   "metadata": {},
   "outputs": [],
   "source": [
    "def calculate_ibm_equivalent_ms(vcpus=0.25, memory_mb=512):\n",
    "    equivalent_wall_time_ms = P_IBM_INVOCATION_FEE / (P_IBM_CPU_PER_VCPUSECOND * vcpus + P_IBM_MEMORY_PER_GBSECOND * memory_mb / 1024) * 1000\n",
    "    return equivalent_wall_time_ms"
   ]
  },
  {
   "cell_type": "code",
   "execution_count": 10,
   "metadata": {},
   "outputs": [],
   "source": [
    "def calculate_cloudflare_equivalent_ms(vcpus=0.25, memory_mb=512):\n",
    "    equivalent_wall_time_ms = P_CLOUDFLARE_INVOCATION_FEE / P_CLOUDFLARE_CPU_PER_MS\n",
    "    return equivalent_wall_time_ms"
   ]
  },
  {
   "cell_type": "code",
   "execution_count": 11,
   "metadata": {},
   "outputs": [],
   "source": [
    "def calculate_vercel_equivalent_ms(vcpus): # too close to aws, ignore\n",
    "    mem = np.ceil(vcpus * 1769)\n",
    "    mem_gb = mem / 1024\n",
    "    equivalent_wall_time_ms = P_VERCEL_INVOCATION_FEE / (P_VERCEL_PER_GBS * mem_gb) * 1000\n",
    "    return equivalent_wall_time_ms"
   ]
  },
  {
   "cell_type": "code",
   "execution_count": 12,
   "metadata": {},
   "outputs": [],
   "source": [
    "def calculate_huawei_equivalent_ms(memory_mb=512):\n",
    "    equivalent_wall_time_ms = P_HUAWEI_INVOCATION_FEE / (P_HUAWEI_PER_GBS * memory_mb / 1024) * 1000\n",
    "    return equivalent_wall_time_ms"
   ]
  },
  {
   "cell_type": "markdown",
   "metadata": {},
   "source": [
    "## Read Traces"
   ]
  },
  {
   "cell_type": "code",
   "execution_count": 13,
   "metadata": {},
   "outputs": [],
   "source": [
    "# Get trace data dir from CURRENT_DIR/../data.env\n",
    "with open( '../data.env') as f:\n",
    "    for line in f:\n",
    "        if line.startswith('TRACE_DATA_DIR'):\n",
    "            TRACE_DATA_DIR = line.split('=')[1].strip()\n",
    "            break\n",
    "TRACES_PATH = os.path.join(TRACE_DATA_DIR, 'public_request_tables')"
   ]
  },
  {
   "cell_type": "code",
   "execution_count": 14,
   "metadata": {},
   "outputs": [],
   "source": [
    "TRACES_PATH = os.path.join(TRACES_PATH, 'huawei_25_traces_request_usage_rt.pkl')"
   ]
  },
  {
   "cell_type": "code",
   "execution_count": 15,
   "metadata": {},
   "outputs": [],
   "source": [
    "with open(TRACES_PATH, \"rb\") as f:\n",
    "    traces = pickle.load(f)"
   ]
  },
  {
   "cell_type": "code",
   "execution_count": 16,
   "metadata": {},
   "outputs": [
    {
     "data": {
      "text/plain": [
       "(947970744, 4)"
      ]
     },
     "execution_count": 16,
     "metadata": {},
     "output_type": "execute_result"
    }
   ],
   "source": [
    "traces.shape"
   ]
  },
  {
   "cell_type": "code",
   "execution_count": 17,
   "metadata": {},
   "outputs": [],
   "source": [
    "execution_duration_data = traces[['runtimeCost']].copy()\n",
    "memory_usage_data = traces[['runtimeCost', 'memory_usage']].copy()"
   ]
  },
  {
   "cell_type": "code",
   "execution_count": 18,
   "metadata": {},
   "outputs": [],
   "source": [
    "execution_duration_data = execution_duration_data[execution_duration_data['runtimeCost'] >= 0.001].copy()\n",
    "memory_usage_data = memory_usage_data[memory_usage_data['runtimeCost'] >= 0.001].copy()"
   ]
  },
  {
   "cell_type": "code",
   "execution_count": 19,
   "metadata": {},
   "outputs": [
    {
     "name": "stdout",
     "output_type": "stream",
     "text": [
      "Number of requests with execution times of at least 1ms: 527054654\n",
      "Number of requests with execution times of at least 1ms: 527054654\n"
     ]
    }
   ],
   "source": [
    "print(f\"Number of requests with execution times of at least 1ms: {execution_duration_data.shape[0]}\")\n",
    "print(f\"Number of requests with execution times of at least 1ms: {memory_usage_data.shape[0]}\")"
   ]
  },
  {
   "cell_type": "markdown",
   "metadata": {},
   "source": [
    "## Plotting"
   ]
  },
  {
   "cell_type": "code",
   "execution_count": 20,
   "metadata": {},
   "outputs": [],
   "source": [
    "vcpus_gcp = np.arange(0.08, 1.01, 0.001)\n",
    "vcpus_aws = np.arange(0.072, 1.01, 0.001)"
   ]
  },
  {
   "cell_type": "code",
   "execution_count": 21,
   "metadata": {},
   "outputs": [
    {
     "data": {
      "text/plain": [
       "(527054654, 2)"
      ]
     },
     "execution_count": 21,
     "metadata": {},
     "output_type": "execute_result"
    }
   ],
   "source": [
    "memory_usage_data.shape"
   ]
  },
  {
   "cell_type": "code",
   "execution_count": 22,
   "metadata": {},
   "outputs": [],
   "source": [
    "def cacluate_round_up_amount_simple_rounding_to_multiples(x, multiple):\n",
    "    return math.ceil(x / multiple) * multiple - x\n",
    "\n",
    "def calculate_round_up_amount_azure_consumption(et):\n",
    "    # < 100ms, round up to 100ms\n",
    "    # > 100ms, round up to the nearest 1ms\n",
    "    if et <= 100:\n",
    "        return 100 - et\n",
    "    return 100 + math.ceil(et-100) - et\n",
    "\n",
    "def calculate_round_up_memory_amount_azure_consumption(et_ms, memory_usage_mb):\n",
    "    # < 100ms, round up to 100ms\n",
    "    # > 100ms, round up to the nearest 1ms\n",
    "    if et_ms <= 100:\n",
    "        new_et_ms = 100\n",
    "    else:\n",
    "        new_et_ms = 100 + math.ceil(et_ms-100)\n",
    "    billable_memory = math.ceil(memory_usage_mb / 128) * 128 * new_et_ms\n",
    "    actual_billable_memory = memory_usage_mb * et_ms\n",
    "    return billable_memory - actual_billable_memory"
   ]
  },
  {
   "cell_type": "code",
   "execution_count": 23,
   "metadata": {},
   "outputs": [],
   "source": [
    "# calculate the round up amount for wall time billing granularity\n",
    "round_up_amount_granularity_100ms = execution_duration_data['runtimeCost'].apply(lambda x: cacluate_round_up_amount_simple_rounding_to_multiples(x*1000, 100)) \n",
    "round_up_amount_azure_consumption = execution_duration_data['runtimeCost'].apply(lambda x: calculate_round_up_amount_azure_consumption(x*1000))"
   ]
  },
  {
   "cell_type": "code",
   "execution_count": 24,
   "metadata": {},
   "outputs": [],
   "source": [
    "# calculate the round up amount for memory usage billing granularity\n",
    "\n",
    "et_ms = memory_usage_data['runtimeCost'] * 1000\n",
    "\n",
    "new_et_ms = np.where(\n",
    "    et_ms <= 100,\n",
    "    100,\n",
    "    100 + np.ceil(et_ms - 100)\n",
    ")\n",
    "\n",
    "billable_memory = (np.ceil(memory_usage_data['memory_usage'] / 128) * 128) * new_et_ms\n",
    "\n",
    "actual_billable = memory_usage_data['memory_usage'] * et_ms\n",
    "\n",
    "round_up_memory_amount_azure_consumption = billable_memory - actual_billable"
   ]
  },
  {
   "cell_type": "code",
   "execution_count": 25,
   "metadata": {},
   "outputs": [],
   "source": [
    "rounding_up = {\n",
    "    \"round_up_amount_granularity_100ms\": round_up_amount_granularity_100ms,\n",
    "    \"round_up_amount_azure_consumption\": round_up_amount_azure_consumption,\n",
    "    \"round_up_memory_amount_azure_consumption\": round_up_memory_amount_azure_consumption\n",
    "}"
   ]
  },
  {
   "cell_type": "code",
   "execution_count": 26,
   "metadata": {},
   "outputs": [],
   "source": [
    "processed_data_dir = os.path.join(TRACE_DATA_DIR, 'processed_data')\n",
    "os.makedirs(processed_data_dir, exist_ok=True)\n",
    "processed_data_path = os.path.join(processed_data_dir, 'rounding_up.pkl')"
   ]
  },
  {
   "cell_type": "code",
   "execution_count": 27,
   "metadata": {},
   "outputs": [],
   "source": [
    "with open(processed_data_path, \"wb\") as f:\n",
    "    pickle.dump(rounding_up, f)"
   ]
  },
  {
   "cell_type": "code",
   "execution_count": 28,
   "metadata": {},
   "outputs": [],
   "source": [
    "round_up_amount_azure_consumption = np.array(round_up_amount_azure_consumption)"
   ]
  },
  {
   "cell_type": "code",
   "execution_count": 29,
   "metadata": {},
   "outputs": [
    {
     "name": "stderr",
     "output_type": "stream",
     "text": [
      "/tmp/ipykernel_749863/4286869778.py:59: UserWarning: This figure was using a layout engine that is incompatible with subplots_adjust and/or tight_layout; not calling subplots_adjust.\n",
      "  fig.subplots_adjust(bottom=0.12)\n"
     ]
    },
    {
     "name": "stdout",
     "output_type": "stream",
     "text": [
      "Figure saved to figures/equivalent_wall_time_and_rounding_up.pdf\n"
     ]
    },
    {
     "data": {
      "image/png": "[encoded data removed]",
      "text/plain": [
       "<Figure size 600x360 with 3 Axes>"
      ]
     },
     "metadata": {},
     "output_type": "display_data"
    }
   ],
   "source": [
    "fig = plt.figure(figsize=(6, 3.6), constrained_layout=True)\n",
    "gs = fig.add_gridspec(2, 2,\n",
    "                      width_ratios=[1, 1],\n",
    "                      height_ratios=[1, 1])\n",
    "\n",
    "palette = sns.color_palette(\"gist_earth\", n_colors=2)\n",
    "linestyle_list = ['-', '--']\n",
    "\n",
    "def fast_cdf(data, nbins=1000):\n",
    "    counts, bin_edges = np.histogram(data, bins=nbins)\n",
    "    cdf = np.cumsum(counts) / counts.sum()\n",
    "    bin_centers = (bin_edges[:-1] + bin_edges[1:]) / 2\n",
    "    return bin_centers, cdf\n",
    "\n",
    "ax1 = fig.add_subplot(gs[:, 0])\n",
    "aws_equivalent_ms = calculate_aws_equivalent_ms(vcpus_aws)\n",
    "ax1.plot(vcpus_aws, aws_equivalent_ms, label='AWS Lambda', color=palette[0], linestyle='-')\n",
    "ax1.plot(vcpus_gcp, caclulate_gcp_equivalent_ms(vcpus_gcp), label='GCP (Gen1 512MB)', color=palette[1], linestyle='--')\n",
    "ax1.plot(1, calculate_azure_equivalent_ms(), 'X', label='Azure Consumption')\n",
    "for cpu,mem in [(0.25,1024),(0.5,2048),(1,4096)]:\n",
    "    ax1.plot(cpu, calculate_ibm_equivalent_ms(cpu, mem), 'P', color='red',\n",
    "             label='IBM Code Engine' if cpu==0.25 else \"\")\n",
    "ax1.plot(1, calculate_cloudflare_equivalent_ms(), 's',\n",
    "         label='Cloudflare Workers', alpha=0.5, zorder=0)\n",
    "for alloc,mem in [(0.3,128),(0.4,256),(0.6,512),(0.8,768),(1,1024)]:\n",
    "    ax1.plot(alloc, calculate_huawei_equivalent_ms(mem), '^',\n",
    "             color='grey', alpha=0.7, label='Huawei' if alloc==0.3 else \"\")\n",
    "ax1.set_xlabel('vCPU Allocation')\n",
    "ax1.set_ylabel('Equivalent Billable Wall Time (ms)')\n",
    "ax1.legend(fontsize=\"small\")\n",
    "ax1.grid(alpha=0.5)\n",
    "\n",
    "ax2 = fig.add_subplot(gs[0, 1])\n",
    "i = 0\n",
    "for label, series in [\n",
    "    ('Granularity 100ms', round_up_amount_granularity_100ms),\n",
    "    ('1ms Gran.\\nMin Cutoff 100ms', round_up_amount_azure_consumption),\n",
    "]:\n",
    "    x, y = fast_cdf(series, nbins=500)\n",
    "    ax2.plot(x, y, label=label, color=palette[i], linestyle=linestyle_list[i])\n",
    "    i += 1\n",
    "ax2.set_xlabel('Round Up Wall Time (ms)')\n",
    "ax2.set_ylabel('CDF')\n",
    "ax2.legend(fontsize=\"small\")\n",
    "ax2.grid(alpha=0.5, linestyle='--')\n",
    "\n",
    "ax3 = fig.add_subplot(gs[1, 1])\n",
    "mem_arr = np.array(round_up_memory_amount_azure_consumption)\n",
    "idx = np.random.choice(len(mem_arr), size=1_000_000, replace=False)\n",
    "sample = np.sort(mem_arr[idx])\n",
    "cdf = np.arange(1, sample.size + 1) / sample.size\n",
    "ax3.plot(sample, cdf, label='Mem Gran. 128MB\\nTime Gran. 1ms\\nMin Cutoff 100ms', color=palette[0])\n",
    "ax3.set_xlabel('Round Up Billable Mem (MB-ms)')\n",
    "ax3.set_ylabel('CDF')\n",
    "ax3.set_xlim(0, 0.5e5)\n",
    "ax3.legend(fontsize=\"small\", loc='upper left', bbox_to_anchor=(-0.02, 1.02))\n",
    "ax3.grid(alpha=0.5, linestyle='--')\n",
    "plt.setp(ax3.get_xticklabels(), rotation=0, fontsize=\"small\")\n",
    "fig.subplots_adjust(bottom=0.12)\n",
    "\n",
    "fig.savefig('figures/equivalent_wall_time_and_rounding_up.pdf')\n",
    "print(\"Figure saved to figures/equivalent_wall_time_and_rounding_up.pdf\")"
   ]
  },
  {
   "cell_type": "code",
   "execution_count": 30,
   "metadata": {},
   "outputs": [
    {
     "name": "stdout",
     "output_type": "stream",
     "text": [
      "Average rounded-up wall time with the 100ms billing granularity: 77.118ms\n"
     ]
    }
   ],
   "source": [
    "print(f\"Average rounded-up wall time with the 100ms billing granularity: {np.mean(round_up_amount_granularity_100ms.values):.3f}ms\")"
   ]
  },
  {
   "cell_type": "code",
   "execution_count": 31,
   "metadata": {},
   "outputs": [
    {
     "name": "stdout",
     "output_type": "stream",
     "text": [
      "Average rounded-up wall time with the 1ms granularity and 100ms minimum cutoff: 61.350ms\n"
     ]
    }
   ],
   "source": [
    "print(f\"Average rounded-up wall time with the 1ms granularity and 100ms minimum cutoff: {np.mean(round_up_amount_azure_consumption):.3f}ms\")"
   ]
  },
  {
   "cell_type": "code",
   "execution_count": 32,
   "metadata": {},
   "outputs": [
    {
     "name": "stdout",
     "output_type": "stream",
     "text": [
      "Average rounded-up billable memory with the 128MB granularity: 0.02669GB-seconds\n"
     ]
    }
   ],
   "source": [
    "print(f\"Average rounded-up billable memory with the 128MB granularity: {np.mean(round_up_memory_amount_azure_consumption/1000/1024):.5f}GB-seconds\")"
   ]
  },
  {
   "cell_type": "code",
   "execution_count": 33,
   "metadata": {},
   "outputs": [
    {
     "name": "stdout",
     "output_type": "stream",
     "text": [
      "Average execution duration reported in the trace: 58.19ms\n"
     ]
    }
   ],
   "source": [
    "print(f\"Average execution duration reported in the trace: {np.mean(traces['runtimeCost'])*1000:.2f}ms\")"
   ]
  },
  {
   "cell_type": "code",
   "execution_count": 34,
   "metadata": {},
   "outputs": [
    {
     "name": "stdout",
     "output_type": "stream",
     "text": [
      "Average billable memory amounts reported in the trace: 0.02746200304839938GB-seconds\n"
     ]
    }
   ],
   "source": [
    "print(f\"Average billable memory amounts reported in the trace: {np.mean(traces['runtimeCost'] * traces['memory_usage'] /1024)}GB-seconds\")"
   ]
  },
  {
   "cell_type": "code",
   "execution_count": null,
   "metadata": {},
   "outputs": [],
   "source": []
  }
 ],
 "metadata": {
  "kernelspec": {
   "display_name": "venv",
   "language": "python",
   "name": "python3"
  },
  "language_info": {
   "codemirror_mode": {
    "name": "ipython",
    "version": 3
   },
   "file_extension": ".py",
   "mimetype": "text/x-python",
   "name": "python",
   "nbconvert_exporter": "python",
   "pygments_lexer": "ipython3",
   "version": "3.12.3"
  }
 },
 "nbformat": 4,
 "nbformat_minor": 2
}
