{
 "cells": [
  {
   "cell_type": "markdown",
   "metadata": {},
   "source": [
    "# Inflation of Billable Resources"
   ]
  },
  {
   "cell_type": "code",
   "execution_count": 1,
   "metadata": {},
   "outputs": [],
   "source": [
    "import numpy as np\n",
    "from matplotlib import pyplot as plt\n",
    "import pickle\n",
    "import pandas as pd\n",
    "from collections import OrderedDict\n",
    "import matplotlib as mpl\n",
    "import seaborn as sns\n",
    "import os\n",
    "import gc"
   ]
  },
  {
   "cell_type": "code",
   "execution_count": 2,
   "metadata": {},
   "outputs": [
    {
     "name": "stdout",
     "output_type": "stream",
     "text": [
      "================================================================================\n",
      "Inflation of Billable Resources\n",
      "--------------------------------------------------------------------------------\n"
     ]
    }
   ],
   "source": [
    "print(\"=\"*80)\n",
    "print(\"Inflation of Billable Resources\")\n",
    "print(\"-\"*80)"
   ]
  },
  {
   "cell_type": "code",
   "execution_count": 3,
   "metadata": {},
   "outputs": [],
   "source": [
    "# ensure figures dir exists\n",
    "os.makedirs('figures', exist_ok=True)"
   ]
  },
  {
   "cell_type": "markdown",
   "metadata": {},
   "source": [
    "## Read Traces"
   ]
  },
  {
   "cell_type": "code",
   "execution_count": 4,
   "metadata": {},
   "outputs": [],
   "source": [
    "# Get trace data dir from CURRENT_DIR/../data.env\n",
    "with open( '../data.env') as f:\n",
    "    for line in f:\n",
    "        if line.startswith('TRACE_DATA_DIR'):\n",
    "            TRACE_DATA_DIR = line.split('=')[1].strip()\n",
    "            break\n",
    "TRACES_PATH = os.path.join(TRACE_DATA_DIR, 'public_request_tables')"
   ]
  },
  {
   "cell_type": "code",
   "execution_count": 5,
   "metadata": {},
   "outputs": [],
   "source": [
    "TRACES_PATH = os.path.join(TRACES_PATH, 'huawei_25_traces_public_request_tables.pkl')"
   ]
  },
  {
   "cell_type": "code",
   "execution_count": 6,
   "metadata": {},
   "outputs": [],
   "source": [
    "with open(TRACES_PATH, \"rb\") as f:\n",
    "    traces = pickle.load(f)"
   ]
  },
  {
   "cell_type": "code",
   "execution_count": 7,
   "metadata": {},
   "outputs": [
    {
     "data": {
      "text/plain": [
       "(793999482, 9)"
      ]
     },
     "execution_count": 7,
     "metadata": {},
     "output_type": "execute_result"
    }
   ],
   "source": [
    "traces.shape"
   ]
  },
  {
   "cell_type": "code",
   "execution_count": 8,
   "metadata": {},
   "outputs": [
    {
     "data": {
      "text/html": [
       "<div>\n",
       "<style scoped>\n",
       "    .dataframe tbody tr th:only-of-type {\n",
       "        vertical-align: middle;\n",
       "    }\n",
       "\n",
       "    .dataframe tbody tr th {\n",
       "        vertical-align: top;\n",
       "    }\n",
       "\n",
       "    .dataframe thead th {\n",
       "        text-align: right;\n",
       "    }\n",
       "</style>\n",
       "<table border=\"1\" class=\"dataframe\">\n",
       "  <thead>\n",
       "    <tr style=\"text-align: right;\">\n",
       "      <th></th>\n",
       "      <th>podID</th>\n",
       "      <th>runtimeCost</th>\n",
       "      <th>cpu_usage</th>\n",
       "      <th>memory_usage</th>\n",
       "      <th>cpu_cores</th>\n",
       "      <th>memory_mb</th>\n",
       "      <th>relative_cpu_usage</th>\n",
       "      <th>relative_memory_usage</th>\n",
       "      <th>cpu_time</th>\n",
       "    </tr>\n",
       "  </thead>\n",
       "  <tbody>\n",
       "    <tr>\n",
       "      <th>0</th>\n",
       "      <td>pool24-600-512-0004546402</td>\n",
       "      <td>0.058268</td>\n",
       "      <td>0.600000</td>\n",
       "      <td>313.187500</td>\n",
       "      <td>0.6</td>\n",
       "      <td>512</td>\n",
       "      <td>1.000000</td>\n",
       "      <td>0.611694</td>\n",
       "      <td>0.034961</td>\n",
       "    </tr>\n",
       "    <tr>\n",
       "      <th>1</th>\n",
       "      <td>pool22-300-128-0003702527</td>\n",
       "      <td>0.334085</td>\n",
       "      <td>0.098253</td>\n",
       "      <td>49.406250</td>\n",
       "      <td>0.3</td>\n",
       "      <td>128</td>\n",
       "      <td>0.327510</td>\n",
       "      <td>0.385986</td>\n",
       "      <td>0.032825</td>\n",
       "    </tr>\n",
       "    <tr>\n",
       "      <th>2</th>\n",
       "      <td>pool26-1000-1024-0001996304</td>\n",
       "      <td>0.183630</td>\n",
       "      <td>0.174525</td>\n",
       "      <td>51.027344</td>\n",
       "      <td>1.0</td>\n",
       "      <td>1024</td>\n",
       "      <td>0.174525</td>\n",
       "      <td>0.049831</td>\n",
       "      <td>0.032048</td>\n",
       "    </tr>\n",
       "    <tr>\n",
       "      <th>3</th>\n",
       "      <td>pool24-600-512-0006653892</td>\n",
       "      <td>0.047347</td>\n",
       "      <td>0.433650</td>\n",
       "      <td>307.187500</td>\n",
       "      <td>0.6</td>\n",
       "      <td>512</td>\n",
       "      <td>0.722750</td>\n",
       "      <td>0.599976</td>\n",
       "      <td>0.020532</td>\n",
       "    </tr>\n",
       "    <tr>\n",
       "      <th>4</th>\n",
       "      <td>pool22-300-128-0004007403</td>\n",
       "      <td>0.184775</td>\n",
       "      <td>0.152065</td>\n",
       "      <td>45.281250</td>\n",
       "      <td>0.3</td>\n",
       "      <td>128</td>\n",
       "      <td>0.506883</td>\n",
       "      <td>0.353760</td>\n",
       "      <td>0.028098</td>\n",
       "    </tr>\n",
       "  </tbody>\n",
       "</table>\n",
       "</div>"
      ],
      "text/plain": [
       "                         podID  runtimeCost  cpu_usage  memory_usage  \\\n",
       "0    pool24-600-512-0004546402     0.058268   0.600000    313.187500   \n",
       "1    pool22-300-128-0003702527     0.334085   0.098253     49.406250   \n",
       "2  pool26-1000-1024-0001996304     0.183630   0.174525     51.027344   \n",
       "3    pool24-600-512-0006653892     0.047347   0.433650    307.187500   \n",
       "4    pool22-300-128-0004007403     0.184775   0.152065     45.281250   \n",
       "\n",
       "   cpu_cores  memory_mb  relative_cpu_usage  relative_memory_usage  cpu_time  \n",
       "0        0.6        512            1.000000               0.611694  0.034961  \n",
       "1        0.3        128            0.327510               0.385986  0.032825  \n",
       "2        1.0       1024            0.174525               0.049831  0.032048  \n",
       "3        0.6        512            0.722750               0.599976  0.020532  \n",
       "4        0.3        128            0.506883               0.353760  0.028098  "
      ]
     },
     "execution_count": 8,
     "metadata": {},
     "output_type": "execute_result"
    }
   ],
   "source": [
    "traces.head(5)"
   ]
  },
  {
   "cell_type": "code",
   "execution_count": 9,
   "metadata": {},
   "outputs": [
    {
     "name": "stdout",
     "output_type": "stream",
     "text": [
      "trace shape: (558735833, 9)\n"
     ]
    }
   ],
   "source": [
    "# exclude them as we are unsure whether the cause was Huawei telemetry limitations\n",
    "traces = traces[traces[\"cpu_time\"] != 0.0]\n",
    "print(\"trace shape:\", traces.shape)"
   ]
  },
  {
   "cell_type": "markdown",
   "metadata": {},
   "source": [
    "## Helper Functions"
   ]
  },
  {
   "cell_type": "code",
   "execution_count": 10,
   "metadata": {},
   "outputs": [],
   "source": [
    "def compute_cdf_percentiles(arr, percentiles=None):\n",
    "    \"\"\"\n",
    "    Compute CDF using percentiles - much faster for large datasets.\n",
    "    \n",
    "    Args:\n",
    "        arr: Input array\n",
    "        percentiles: Array of percentile values (0-100). If None, uses p0 to p100\n",
    "    \n",
    "    Returns:\n",
    "        x_vals, cdf_vals: Arrays for plotting\n",
    "    \"\"\"\n",
    "    # Remove non-finite values efficiently\n",
    "    finite_mask = np.isfinite(arr)\n",
    "    if not np.any(finite_mask):\n",
    "        return np.array([]), np.array([])\n",
    "    \n",
    "    clean = arr[finite_mask]\n",
    "    \n",
    "    if percentiles is None:\n",
    "        percentiles = np.arange(0, 101, 1)  # 0, 1, 2, ..., 100\n",
    "    \n",
    "    # Calculate percentile values\n",
    "    x_vals = np.percentile(clean, percentiles)\n",
    "    # Convert percentiles to CDF values (0-1 scale)\n",
    "    cdf_vals = percentiles / 100.0\n",
    "    \n",
    "    return x_vals, cdf_vals"
   ]
  },
  {
   "cell_type": "markdown",
   "metadata": {},
   "source": [
    "## Billables Calculation"
   ]
  },
  {
   "cell_type": "code",
   "execution_count": 11,
   "metadata": {},
   "outputs": [],
   "source": [
    "billables_data = {}"
   ]
  },
  {
   "cell_type": "markdown",
   "metadata": {},
   "source": [
    "### Actual Usage"
   ]
  },
  {
   "cell_type": "code",
   "execution_count": 12,
   "metadata": {},
   "outputs": [
    {
     "name": "stdout",
     "output_type": "stream",
     "text": [
      "Processing Actual Usage...\n"
     ]
    }
   ],
   "source": [
    "print(\"Processing Actual Usage...\")"
   ]
  },
  {
   "cell_type": "code",
   "execution_count": 13,
   "metadata": {},
   "outputs": [],
   "source": [
    "billable_time_ms = traces['runtimeCost'].to_numpy() * 1000\n",
    "billable_memory_mb = traces['memory_usage'].to_numpy()\n",
    "billable_memory_mbms = billable_memory_mb * billable_time_ms\n",
    "\n",
    "billable_vcpus_ms = traces['cpu_time'].to_numpy() * 1000\n",
    "billable_memory_mbms = billable_memory_mbms\n",
    "\n",
    "billables_data['Actual Usage'] = {\n",
    "    'vCPUs':  {\n",
    "        \"mean\": np.mean(billable_vcpus_ms),\n",
    "        \"percentiles\": compute_cdf_percentiles(billable_vcpus_ms)\n",
    "    },\n",
    "    'Memory': {\n",
    "        \"mean\": np.mean(billable_memory_mbms),\n",
    "        \"percentiles\": compute_cdf_percentiles(billable_memory_mbms)\n",
    "    }\n",
    "}"
   ]
  },
  {
   "cell_type": "markdown",
   "metadata": {},
   "source": [
    "### Huawei\n",
    "* Use original config\n",
    "* Wall Time Rounding: 1ms\n",
    "* References\n",
    "    * https://support.huaweicloud.com/eu/functiongraph/index.html\n",
    "    * https://support.huaweicloud.com/eu/price-functiongraph/functiongraph_00_0004.html"
   ]
  },
  {
   "cell_type": "code",
   "execution_count": 14,
   "metadata": {},
   "outputs": [
    {
     "name": "stdout",
     "output_type": "stream",
     "text": [
      "Processing Huawei...\n"
     ]
    }
   ],
   "source": [
    "print(\"Processing Huawei...\")"
   ]
  },
  {
   "cell_type": "code",
   "execution_count": 15,
   "metadata": {},
   "outputs": [],
   "source": [
    "def calculate_billables_huawei(exec_duration_ms,\n",
    "                              allocated_memory_mb,\n",
    "                              allocated_vcpus,\n",
    "                              consumed_memory_mb,\n",
    "                              cpu_time_ms):\n",
    "    exec_duration_ms      = np.asarray(exec_duration_ms,      dtype=float)\n",
    "    allocated_memory_mb   = np.asarray(allocated_memory_mb,   dtype=float)\n",
    "    allocated_vcpus       = np.asarray(allocated_vcpus,       dtype=float)\n",
    "\n",
    "    billable_time_ms = np.ceil(exec_duration_ms).astype(int)\n",
    "\n",
    "    billable_vcpus_ms    = allocated_vcpus     * billable_time_ms\n",
    "    billable_memory_mbms = allocated_memory_mb * billable_time_ms\n",
    "\n",
    "    return billable_vcpus_ms, billable_memory_mbms"
   ]
  },
  {
   "cell_type": "code",
   "execution_count": 16,
   "metadata": {},
   "outputs": [],
   "source": [
    "exec_ms      = traces['runtimeCost'].values * 1000\n",
    "mem_mb       = traces['memory_mb'].values\n",
    "cpu_cores    = traces['cpu_cores'].values\n",
    "\n",
    "billable_vcpus_ms, billable_memory_mbms = calculate_billables_huawei(\n",
    "    exec_duration_ms    = exec_ms,\n",
    "    allocated_memory_mb = mem_mb,\n",
    "    allocated_vcpus     = cpu_cores,\n",
    "    consumed_memory_mb  = None,\n",
    "    cpu_time_ms         = None\n",
    ")\n",
    "\n",
    "billables_data['Huawei'] = {\n",
    "    'vCPUs':  {\n",
    "        \"mean\": np.mean(billable_vcpus_ms),\n",
    "        \"percentiles\": compute_cdf_percentiles(billable_vcpus_ms)\n",
    "    },\n",
    "    'Memory': {\n",
    "        \"mean\": np.mean(billable_memory_mbms),\n",
    "        \"percentiles\": compute_cdf_percentiles(billable_memory_mbms)\n",
    "    }\n",
    "}"
   ]
  },
  {
   "cell_type": "markdown",
   "metadata": {},
   "source": [
    "### Proportional CPU Allocation (AWS)"
   ]
  },
  {
   "cell_type": "code",
   "execution_count": 17,
   "metadata": {},
   "outputs": [
    {
     "name": "stdout",
     "output_type": "stream",
     "text": [
      "Processing Proportional CPU Allocation (AWS)...\n"
     ]
    }
   ],
   "source": [
    "print(\"Processing Proportional CPU Allocation (AWS)...\")"
   ]
  },
  {
   "cell_type": "code",
   "execution_count": 18,
   "metadata": {},
   "outputs": [],
   "source": [
    "# calculate the average cpu to memory ratio in huawei traces\n",
    "pod_flavors = set(zip(traces['cpu_cores'].values, traces['memory_mb'].values))\n",
    "allocated_cpu_to_memory_size_ratios = [x*1000 / y for x, y in pod_flavors]\n",
    "average_allocated_cpu_to_memory_size_ratios_mc_per_mb = np.mean(allocated_cpu_to_memory_size_ratios)\n",
    "\n",
    "def calculate_billables_proportional(exec_duration_ms,\n",
    "                                     allocated_memory_mb,\n",
    "                                     allocated_vcpus,\n",
    "                                     consumed_memory_mb,\n",
    "                                     cpu_time_ms,\n",
    "                                     average_allocated_cpu_to_memory_size_ratios_mc_per_mb):\n",
    "    exec_duration_ms      = np.asarray(exec_duration_ms,      dtype=float)\n",
    "    allocated_memory_mb   = np.asarray(allocated_memory_mb,   dtype=float)\n",
    "    allocated_vcpus       = np.asarray(allocated_vcpus,       dtype=float)\n",
    "\n",
    "    billable_time_ms = np.ceil(exec_duration_ms).astype(int)\n",
    "\n",
    "    ratio = average_allocated_cpu_to_memory_size_ratios_mc_per_mb\n",
    "    initial_vcpu_alloc = ratio * allocated_memory_mb / 1000.0\n",
    "\n",
    "    # use whichever larger as the base to calibrate billables\n",
    "    billable_vcpu_allocation = np.maximum(initial_vcpu_alloc, allocated_vcpus)\n",
    "    billable_memory_mb = np.where(\n",
    "        initial_vcpu_alloc < allocated_vcpus,\n",
    "        billable_vcpu_allocation * 1000.0 / ratio,\n",
    "        allocated_memory_mb\n",
    "    )\n",
    "\n",
    "\n",
    "    billable_vcpus_ms    = billable_vcpu_allocation * billable_time_ms\n",
    "    billable_memory_mbms = billable_memory_mb       * billable_time_ms\n",
    "\n",
    "    return billable_vcpus_ms, billable_memory_mbms"
   ]
  },
  {
   "cell_type": "code",
   "execution_count": 19,
   "metadata": {},
   "outputs": [],
   "source": [
    "exec_ms      = traces['runtimeCost'].values * 1000\n",
    "mem_mb       = traces['memory_mb'].values\n",
    "cpu_cores    = traces['cpu_cores'].values\n",
    "\n",
    "billable_vcpus_ms, billable_memory_mbms = calculate_billables_proportional(\n",
    "    exec_duration_ms    = exec_ms,\n",
    "    allocated_memory_mb = mem_mb,\n",
    "    allocated_vcpus     = cpu_cores,\n",
    "    consumed_memory_mb  = None,\n",
    "    cpu_time_ms         = None,\n",
    "    average_allocated_cpu_to_memory_size_ratios_mc_per_mb = average_allocated_cpu_to_memory_size_ratios_mc_per_mb\n",
    ")\n",
    "\n",
    "billables_data['Proportional'] = {\n",
    "    'vCPUs':  {\n",
    "        \"mean\": np.mean(billable_vcpus_ms),\n",
    "        \"percentiles\": compute_cdf_percentiles(billable_vcpus_ms)\n",
    "    },\n",
    "    'Memory': {\n",
    "        \"mean\": np.mean(billable_memory_mbms),\n",
    "        \"percentiles\": compute_cdf_percentiles(billable_memory_mbms)\n",
    "    }\n",
    "}"
   ]
  },
  {
   "cell_type": "markdown",
   "metadata": {},
   "source": [
    "### Wall Time Rounding (GCP)"
   ]
  },
  {
   "cell_type": "code",
   "execution_count": 20,
   "metadata": {},
   "outputs": [
    {
     "name": "stdout",
     "output_type": "stream",
     "text": [
      "Processing Wall Time Rounding (GCP)...\n"
     ]
    }
   ],
   "source": [
    "print(\"Processing Wall Time Rounding (GCP)...\")"
   ]
  },
  {
   "cell_type": "code",
   "execution_count": 21,
   "metadata": {},
   "outputs": [],
   "source": [
    "def calculate_billables_wctrounding(exec_duration_ms,\n",
    "                              allocated_memory_mb,\n",
    "                              allocated_vcpus,\n",
    "                              consumed_memory_mb,\n",
    "                              cpu_time_ms):\n",
    "    \n",
    "    exec_duration_ms      = np.asarray(exec_duration_ms,      dtype=float)\n",
    "    allocated_memory_mb   = np.asarray(allocated_memory_mb,   dtype=float)\n",
    "    allocated_vcpus       = np.asarray(allocated_vcpus,       dtype=float)\n",
    "\n",
    "    # round up to the nearest 100ms\n",
    "    billable_time_ms = np.ceil(exec_duration_ms / 100) * 100\n",
    "\n",
    "\n",
    "    billable_vcpus_ms    = allocated_vcpus     * billable_time_ms\n",
    "    billable_memory_mbms = allocated_memory_mb * billable_time_ms\n",
    "\n",
    "    return billable_vcpus_ms, billable_memory_mbms"
   ]
  },
  {
   "cell_type": "code",
   "execution_count": 22,
   "metadata": {},
   "outputs": [],
   "source": [
    "exec_ms      = traces['runtimeCost'].values * 1000\n",
    "mem_mb       = traces['memory_mb'].values\n",
    "cpu_cores    = traces['cpu_cores'].values\n",
    "\n",
    "billable_vcpus_ms, billable_memory_mbms = calculate_billables_wctrounding(\n",
    "    exec_duration_ms    = exec_ms,\n",
    "    allocated_memory_mb = mem_mb,\n",
    "    allocated_vcpus     = cpu_cores,\n",
    "    consumed_memory_mb  = None,\n",
    "    cpu_time_ms         = None\n",
    ")\n",
    "\n",
    "billables_data['WCT Rounding'] = {\n",
    "    'vCPUs':  {\n",
    "        \"mean\": np.mean(billable_vcpus_ms),\n",
    "        \"percentiles\": compute_cdf_percentiles(billable_vcpus_ms)\n",
    "    },\n",
    "    'Memory': {\n",
    "        \"mean\": np.mean(billable_memory_mbms),\n",
    "        \"percentiles\": compute_cdf_percentiles(billable_memory_mbms)\n",
    "    }\n",
    "}"
   ]
  },
  {
   "cell_type": "markdown",
   "metadata": {},
   "source": [
    "### Time and Usage Rounding (Azure Consumption)"
   ]
  },
  {
   "cell_type": "code",
   "execution_count": 23,
   "metadata": {},
   "outputs": [
    {
     "name": "stdout",
     "output_type": "stream",
     "text": [
      "Processing Time and Usage Rounding (Azure Consumption)...\n"
     ]
    }
   ],
   "source": [
    "print(\"Processing Time and Usage Rounding (Azure Consumption)...\")"
   ]
  },
  {
   "cell_type": "code",
   "execution_count": 24,
   "metadata": {},
   "outputs": [],
   "source": [
    "def calculate_billables_usagerounding(exec_duration_ms,\n",
    "                                      allocated_memory_mb,\n",
    "                                      allocated_vcpus,\n",
    "                                      consumed_memory_mb,\n",
    "                                      cpu_time_ms):\n",
    "    # Convert inputs to numpy arrays\n",
    "    exec_duration_ms    = np.asarray(exec_duration_ms,    dtype=float)\n",
    "    allocated_vcpus     = np.asarray(allocated_vcpus,     dtype=float)\n",
    "    consumed_memory_mb  = np.asarray(consumed_memory_mb,  dtype=float)\n",
    "\n",
    "    billable_time_ms = np.where(\n",
    "        exec_duration_ms < 100,\n",
    "        100,\n",
    "        np.ceil(exec_duration_ms)\n",
    "    ).astype(int)\n",
    "\n",
    "    billable_memory_mb = (np.ceil(consumed_memory_mb / 128)).astype(int) * 128\n",
    "\n",
    "    billable_vcpus_ms    = allocated_vcpus     * billable_time_ms\n",
    "    billable_memory_mbms = billable_memory_mb  * billable_time_ms\n",
    "\n",
    "    return billable_vcpus_ms, billable_memory_mbms"
   ]
  },
  {
   "cell_type": "code",
   "execution_count": 25,
   "metadata": {},
   "outputs": [],
   "source": [
    "exec_ms      = traces['runtimeCost'].values * 1000\n",
    "mem_mb       = traces['memory_mb'].values\n",
    "cpu_cores    = traces['cpu_cores'].values\n",
    "consumed_memory_mb = traces['memory_usage'].values\n",
    "\n",
    "billable_vcpus_ms, billable_memory_mbms = calculate_billables_usagerounding(\n",
    "    exec_duration_ms    = exec_ms,\n",
    "    allocated_memory_mb = mem_mb,\n",
    "    allocated_vcpus     = cpu_cores,\n",
    "    consumed_memory_mb  = consumed_memory_mb,\n",
    "    cpu_time_ms         = None\n",
    ")\n",
    "\n",
    "billables_data['Usg Rounding'] = {\n",
    "    'vCPUs':  {\n",
    "        \"mean\": np.mean(billable_vcpus_ms),\n",
    "        \"percentiles\": compute_cdf_percentiles(billable_vcpus_ms)\n",
    "    },\n",
    "    'Memory': {\n",
    "        \"mean\": np.mean(billable_memory_mbms),\n",
    "        \"percentiles\": compute_cdf_percentiles(billable_memory_mbms)\n",
    "    }\n",
    "}"
   ]
  },
  {
   "cell_type": "markdown",
   "metadata": {},
   "source": [
    "### CPU Time Only (Cloudflare)"
   ]
  },
  {
   "cell_type": "code",
   "execution_count": 26,
   "metadata": {},
   "outputs": [
    {
     "name": "stdout",
     "output_type": "stream",
     "text": [
      "Processing CPU Time Only (Cloudflare)...\n"
     ]
    }
   ],
   "source": [
    "print(\"Processing CPU Time Only (Cloudflare)...\")"
   ]
  },
  {
   "cell_type": "code",
   "execution_count": 27,
   "metadata": {},
   "outputs": [],
   "source": [
    "def calculate_billables_cputime(exec_duration_ms,\n",
    "                              allocated_memory_mb,\n",
    "                              allocated_vcpus,\n",
    "                              consumed_memory_mb,\n",
    "                              cpu_time_ms):\n",
    "    \n",
    "    exec_duration_ms      = np.asarray(exec_duration_ms,      dtype=float)\n",
    "    allocated_memory_mb   = np.asarray(allocated_memory_mb,   dtype=float)\n",
    "    allocated_vcpus       = np.asarray(allocated_vcpus,       dtype=float)\n",
    "    consumed_memory_mb    = np.asarray(consumed_memory_mb,    dtype=float)\n",
    "    cpu_time_ms           = np.asarray(cpu_time_ms,           dtype=float)\n",
    "\n",
    "    billable_vcpus_ms    = np.ceil(cpu_time_ms).astype(int)\n",
    "    billable_memory_mbms = np.array([0] * len(cpu_time_ms), dtype=float)\n",
    "\n",
    "    return billable_vcpus_ms, billable_memory_mbms"
   ]
  },
  {
   "cell_type": "code",
   "execution_count": 28,
   "metadata": {},
   "outputs": [],
   "source": [
    "exec_ms      = traces['runtimeCost'].values * 1000\n",
    "mem_mb       = traces['memory_mb'].values\n",
    "cpu_cores    = traces['cpu_cores'].values\n",
    "consumed_memory_mb = traces['memory_usage'].values\n",
    "cpu_time_ms = traces['cpu_time'].values * 1000\n",
    "\n",
    "billable_vcpus_ms, billable_memory_mbms = calculate_billables_cputime(\n",
    "    exec_duration_ms    = None,\n",
    "    allocated_memory_mb = None,\n",
    "    allocated_vcpus     = None,\n",
    "    consumed_memory_mb  = None,\n",
    "    cpu_time_ms         = cpu_time_ms\n",
    ")\n",
    "\n",
    "billables_data['CPU Time'] = {\n",
    "    'vCPUs':  {\n",
    "        \"mean\": np.mean(billable_vcpus_ms),\n",
    "        \"percentiles\": compute_cdf_percentiles(billable_vcpus_ms)\n",
    "    },\n",
    "    'Memory': {\n",
    "        \"mean\": np.mean(billable_memory_mbms),\n",
    "        \"percentiles\": compute_cdf_percentiles(billable_memory_mbms)\n",
    "    }\n",
    "}"
   ]
  },
  {
   "cell_type": "markdown",
   "metadata": {},
   "source": [
    "## Plotting"
   ]
  },
  {
   "cell_type": "code",
   "execution_count": 29,
   "metadata": {},
   "outputs": [],
   "source": [
    "processed_data_dir = os.path.join(TRACE_DATA_DIR, 'processed_data')\n",
    "os.makedirs(processed_data_dir, exist_ok=True)\n",
    "processed_data_path = os.path.join(processed_data_dir, 'billables_data.pkl')"
   ]
  },
  {
   "cell_type": "code",
   "execution_count": 30,
   "metadata": {},
   "outputs": [],
   "source": [
    "with open(processed_data_path, \"wb\") as f:\n",
    "    pickle.dump(billables_data, f)"
   ]
  },
  {
   "cell_type": "code",
   "execution_count": 31,
   "metadata": {},
   "outputs": [],
   "source": [
    "# with open(processed_data_path, \"rb\") as f:\n",
    "#     billables_data = pickle.load(f)"
   ]
  },
  {
   "cell_type": "code",
   "execution_count": 32,
   "metadata": {},
   "outputs": [],
   "source": [
    "# convert to vCPU-Seconds and GB-Seconds\n",
    "for k, v in billables_data.items():\n",
    "    v['vCPUs'] = {\n",
    "        'mean': v['vCPUs']['mean'] / 1000,\n",
    "        'percentiles': (v['vCPUs']['percentiles'][0] / 1000, v['vCPUs']['percentiles'][1])\n",
    "    }\n",
    "    v['Memory'] = {\n",
    "        'mean': v['Memory']['mean'] / 1024 / 1000,\n",
    "        'percentiles': (v['Memory']['percentiles'][0] / 1024 / 1000, v['Memory']['percentiles'][1])\n",
    "    }"
   ]
  },
  {
   "cell_type": "code",
   "execution_count": null,
   "metadata": {},
   "outputs": [
    {
     "name": "stdout",
     "output_type": "stream",
     "text": [
      "Processing CPU data...\n",
      "  Processing Actual Usage...\n",
      "  Processing Huawei (Fixed Combo)...\n",
      "  Processing AWS (Proportional)...\n",
      "  Processing GCP (Time Rnd)...\n",
      "  Processing Azure (Time and Usg Rnd)...\n",
      "  Processing Cloudflare (CPU Time)...\n",
      "Processing Memory data...\n",
      "  Processing Actual Usage...\n",
      "  Processing Huawei (Fixed Combo)...\n",
      "  Processing AWS (Proportional)...\n",
      "  Processing GCP (Time Rnd)...\n",
      "  Processing Azure (Time and Usg Rnd)...\n",
      "  Processing Cloudflare (CPU Time)...\n",
      "Creating legend...\n",
      "Saving figure...\n",
      "Figure saved to figures/billables_cdf_current_billing.pdf\n"
     ]
    },
    {
     "data": {
      "image/png": "[encoded data removed]",
      "text/plain": [
       "<Figure size 665x380 with 2 Axes>"
      ]
     },
     "metadata": {},
     "output_type": "display_data"
    }
   ],
   "source": [
    "\n",
    "def plot_cdf_percentiles(ax, arr, label, percentiles=None, **plot_kwargs):\n",
    "    \"\"\"Plot CDF using percentile calculation.\"\"\"\n",
    "    x_vals, cdf_vals = arr['percentiles'][0], arr['percentiles'][1]\n",
    "    if len(x_vals) > 0:\n",
    "        ax.plot(x_vals, cdf_vals, label=label, **plot_kwargs)\n",
    "\n",
    "arrays_cpu = [\n",
    "    billables_data['Actual Usage']['vCPUs'],\n",
    "    billables_data['Huawei']['vCPUs'],\n",
    "    billables_data['Proportional']['vCPUs'],\n",
    "    billables_data['WCT Rounding']['vCPUs'],\n",
    "    billables_data['Usg Rounding']['vCPUs'],\n",
    "    billables_data['CPU Time']['vCPUs'],\n",
    "]\n",
    "\n",
    "arrays_mem = [\n",
    "    billables_data['Actual Usage']['Memory'],\n",
    "    billables_data['Huawei']['Memory'],\n",
    "    billables_data['Proportional']['Memory'],\n",
    "    billables_data['WCT Rounding']['Memory'],\n",
    "    billables_data['Usg Rounding']['Memory'],\n",
    "    billables_data['CPU Time']['Memory'],\n",
    "]\n",
    "\n",
    "labels = ['Actual Usage',\n",
    "          'Huawei (Fixed Combo)',\n",
    "          'AWS (Proportional)',\n",
    "          'GCP (Time Rnd)',\n",
    "          'Azure (Time and Usg Rnd)',\n",
    "          'Cloudflare (CPU Time)']\n",
    "\n",
    "sns_palette_labels = [label for label in labels \n",
    "                     if label not in ['Actual Usage', 'Cloudflare (CPU Time)']]\n",
    "palette = sns.color_palette(\"gist_earth\", n_colors=len(sns_palette_labels)+1)\n",
    "color_map = {system: palette[idx] for idx, system in enumerate(sns_palette_labels)}\n",
    "\n",
    "fig, (ax1, ax2) = plt.subplots(1, 2, figsize=(6.65, 3.8))\n",
    "\n",
    "percentiles = np.arange(0, 101, 1)\n",
    "\n",
    "print(\"Processing CPU data...\")\n",
    "for arr, label in zip(arrays_cpu, labels):\n",
    "    print(f\"  Processing {label}...\")\n",
    "    \n",
    "    if label == 'Actual Usage':\n",
    "        plot_cdf_percentiles(ax1, arr, label, percentiles,\n",
    "                           linestyle='dashed', linewidth=2, color='tab:red', zorder=100)\n",
    "    elif label == 'Cloudflare (CPU Time)':\n",
    "        plot_cdf_percentiles(ax1, arr, label, percentiles,\n",
    "                           linestyle='dotted', color='tab:orange', linewidth=2, \n",
    "                           zorder=200, alpha=0.9)\n",
    "    else:\n",
    "        plot_cdf_percentiles(ax1, arr, label, percentiles,\n",
    "                           color=color_map[label], linewidth=1.6)\n",
    "\n",
    "ax1.set_xscale('log')\n",
    "ax1.set_xlabel('Billable vCPU Time (vCPU-seconds)', fontsize=14)\n",
    "ax1.set_ylabel('CDF', fontsize=14)\n",
    "ax1.grid(alpha=0.5, linestyle='--')\n",
    "\n",
    "print(\"Processing Memory data...\")\n",
    "for arr, label in zip(arrays_mem, labels):\n",
    "    print(f\"  Processing {label}...\")\n",
    "    \n",
    "    if label == 'Actual Usage':\n",
    "        plot_cdf_percentiles(ax2, arr, label, percentiles,\n",
    "                           linestyle='dashed', linewidth=2, color='tab:red', zorder=100)\n",
    "    elif label == 'Cloudflare (CPU Time)':\n",
    "        continue\n",
    "    else:\n",
    "        plot_cdf_percentiles(ax2, arr, label, percentiles,\n",
    "                           color=color_map[label], linewidth=1.6)\n",
    "\n",
    "ax2.set_xscale('log')\n",
    "ax2.set_xlabel('Billable Memory (GB-seconds)', fontsize=14)\n",
    "ax2.set_ylabel('CDF', fontsize=14)\n",
    "ax2.grid(alpha=0.5, linestyle='--')\n",
    "\n",
    "print(\"Creating legend...\")\n",
    "h1, l1 = ax1.get_legend_handles_labels()\n",
    "h2, l2 = ax2.get_legend_handles_labels()\n",
    "\n",
    "unique = {}\n",
    "for handle, lab in zip(h1 + h2, l1 + l2):\n",
    "    if lab not in unique:\n",
    "        unique[lab] = handle\n",
    "\n",
    "fig.legend(\n",
    "    unique.values(),\n",
    "    unique.keys(),\n",
    "    loc='upper center',\n",
    "    ncol=3,\n",
    "    bbox_to_anchor=(0.5, 1.12),\n",
    "    fontsize=11,\n",
    ")\n",
    "\n",
    "ax1.tick_params(axis='both', which='major', labelsize=14)\n",
    "ax2.tick_params(axis='both', which='major', labelsize=14)\n",
    "\n",
    "plt.tight_layout()\n",
    "\n",
    "print(\"Saving figure...\")\n",
    "fig.savefig('figures/billables_cdf_current_billing.pdf', \n",
    "           format='pdf', bbox_inches='tight')\n",
    "print(\"Figure saved to figures/billables_cdf_current_billing.pdf\")\n",
    "\n",
    "plt.show()\n"
   ]
  },
  {
   "cell_type": "markdown",
   "metadata": {},
   "source": [
    "## Inflation Statistics"
   ]
  },
  {
   "cell_type": "markdown",
   "metadata": {},
   "source": [
    "Compared to actual usage, billable vCPU time and billable memory exceed actual usage by the following factors:"
   ]
  },
  {
   "cell_type": "code",
   "execution_count": 34,
   "metadata": {},
   "outputs": [
    {
     "name": "stdout",
     "output_type": "stream",
     "text": [
      "Compared to actual usage, billable vCPU time and billable memory exceed actual usage by the following factors:\n"
     ]
    }
   ],
   "source": [
    "print(\"Compared to actual usage, billable vCPU time and billable memory exceed actual usage by the following factors:\")"
   ]
  },
  {
   "cell_type": "code",
   "execution_count": 35,
   "metadata": {},
   "outputs": [
    {
     "name": "stdout",
     "output_type": "stream",
     "text": [
      "Huawei (Fixed Combo):\n",
      "  vCPUs: 2.145263296495705\n",
      "  Memory: 2.6088776939483993\n",
      "\n",
      "AWS (Proportional):\n",
      "  vCPUs: 2.491895006337562\n",
      "  Memory: 2.7159686829558014\n",
      "\n",
      "GCP (Time Rnd):\n",
      "  vCPUs: 3.6259408698146585\n",
      "  Memory: 4.350769451586825\n",
      "\n",
      "Azure (Time and Usg Rnd):\n",
      "  vCPUs: 3.445964353693007\n",
      "  Memory: 1.571093104636354\n",
      "\n",
      "Cloudflare (CPU Time):\n",
      "  vCPUs: 1.0098841505130247\n",
      "  Memory: 0.0\n",
      "\n"
     ]
    }
   ],
   "source": [
    "for key, value in billables_data.items():\n",
    "    if key == 'Actual Usage':\n",
    "        continue\n",
    "    if key == 'Proportional':\n",
    "        print(\"AWS (Proportional):\")\n",
    "    elif key == 'Huawei':\n",
    "        print(\"Huawei (Fixed Combo):\")\n",
    "    elif key == 'WCT Rounding':\n",
    "        print(\"GCP (Time Rnd):\")\n",
    "    elif key == 'Usg Rounding':\n",
    "        print(\"Azure (Time and Usg Rnd):\")\n",
    "    elif key == 'CPU Time':\n",
    "        print(\"Cloudflare (CPU Time):\")\n",
    "    print(f\"  vCPUs: {billables_data[key]['vCPUs']['mean'] / billables_data['Actual Usage']['vCPUs']['mean']}\")\n",
    "    print(f\"  Memory: {billables_data[key]['Memory']['mean'] / billables_data['Actual Usage']['Memory']['mean']}\")\n",
    "\n",
    "    print()"
   ]
  },
  {
   "cell_type": "code",
   "execution_count": null,
   "metadata": {},
   "outputs": [],
   "source": []
  }
 ],
 "metadata": {
  "kernelspec": {
   "display_name": "venv",
   "language": "python",
   "name": "python3"
  },
  "language_info": {
   "codemirror_mode": {
    "name": "ipython",
    "version": 3
   },
   "file_extension": ".py",
   "mimetype": "text/x-python",
   "name": "python",
   "nbconvert_exporter": "python",
   "pygments_lexer": "ipython3",
   "version": "3.12.3"
  }
 },
 "nbformat": 4,
 "nbformat_minor": 2
}
