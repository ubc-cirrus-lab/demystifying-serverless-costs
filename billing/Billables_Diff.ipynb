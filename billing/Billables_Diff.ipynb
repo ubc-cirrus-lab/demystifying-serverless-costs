{
 "cells": [
  {
   "cell_type": "markdown",
   "metadata": {},
   "source": [
    "# Billables Diff"
   ]
  },
  {
   "cell_type": "code",
   "execution_count": 1,
   "metadata": {},
   "outputs": [],
   "source": [
    "import pandas as pd\n",
    "import numpy as np\n",
    "import matplotlib.pyplot as plt\n",
    "import scipy.stats as stats\n",
    "import pickle\n",
    "import os\n",
    "import re\n",
    "from matplotlib.ticker import LogFormatterSciNotation, LogLocator, NullLocator, SymmetricalLogLocator, FixedLocator\n",
    "import gc"
   ]
  },
  {
   "cell_type": "code",
   "execution_count": 2,
   "metadata": {},
   "outputs": [
    {
     "name": "stdout",
     "output_type": "stream",
     "text": [
      "================================================================================\n",
      "Billables Diff\n",
      "--------------------------------------------------------------------------------\n"
     ]
    }
   ],
   "source": [
    "print(\"=\"*80)\n",
    "print(\"Billables Diff\")\n",
    "print(\"-\"*80)"
   ]
  },
  {
   "cell_type": "code",
   "execution_count": 3,
   "metadata": {},
   "outputs": [],
   "source": [
    "# ensure figures dir exists\n",
    "os.makedirs('figures', exist_ok=True)"
   ]
  },
  {
   "cell_type": "markdown",
   "metadata": {},
   "source": [
    "## Read Traces"
   ]
  },
  {
   "cell_type": "code",
   "execution_count": 4,
   "metadata": {},
   "outputs": [],
   "source": [
    "# Get trace data dir from CURRENT_DIR/../data.env\n",
    "with open( '../data.env') as f:\n",
    "    for line in f:\n",
    "        if line.startswith('TRACE_DATA_DIR'):\n",
    "            TRACE_DATA_DIR = line.split('=')[1].strip()\n",
    "            break\n",
    "REQUEST_TRACES_PATH = os.path.join(TRACE_DATA_DIR, 'public_request_tables')\n",
    "COLDSTART_TRACES_PATH = os.path.join(TRACE_DATA_DIR, 'public_cold_starts')"
   ]
  },
  {
   "cell_type": "code",
   "execution_count": 5,
   "metadata": {},
   "outputs": [],
   "source": [
    "REQUEST_TRACES_PATH = os.path.join(REQUEST_TRACES_PATH, 'huawei_25_traces_request_usage_rt.pkl')\n",
    "COLDSTART_TRACES_PATH = os.path.join(COLDSTART_TRACES_PATH, 'huawei_25_traces_public_cold_starts.pkl')"
   ]
  },
  {
   "cell_type": "code",
   "execution_count": 6,
   "metadata": {},
   "outputs": [
    {
     "name": "stdout",
     "output_type": "stream",
     "text": [
      "Loading request traces...\n",
      "Loading cold start traces...\n"
     ]
    }
   ],
   "source": [
    "print(\"Loading request traces...\")\n",
    "with open(REQUEST_TRACES_PATH, \"rb\") as f:\n",
    "    request_traces = pickle.load(f)\n",
    "    \n",
    "print(\"Loading cold start traces...\")\n",
    "with open(COLDSTART_TRACES_PATH, \"rb\") as f:\n",
    "    coldstart_traces = pickle.load(f)"
   ]
  },
  {
   "cell_type": "code",
   "execution_count": 7,
   "metadata": {},
   "outputs": [
    {
     "name": "stdout",
     "output_type": "stream",
     "text": [
      "Request traces: (947970744, 4)\n",
      "Cold start traces: (11913857, 14)\n"
     ]
    }
   ],
   "source": [
    "print(\"Request traces:\", request_traces.shape)\n",
    "print(\"Cold start traces:\", coldstart_traces.shape)"
   ]
  },
  {
   "cell_type": "code",
   "execution_count": 8,
   "metadata": {},
   "outputs": [
    {
     "data": {
      "text/html": [
       "<div>\n",
       "<style scoped>\n",
       "    .dataframe tbody tr th:only-of-type {\n",
       "        vertical-align: middle;\n",
       "    }\n",
       "\n",
       "    .dataframe tbody tr th {\n",
       "        vertical-align: top;\n",
       "    }\n",
       "\n",
       "    .dataframe thead th {\n",
       "        text-align: right;\n",
       "    }\n",
       "</style>\n",
       "<table border=\"1\" class=\"dataframe\">\n",
       "  <thead>\n",
       "    <tr style=\"text-align: right;\">\n",
       "      <th></th>\n",
       "      <th>podID</th>\n",
       "      <th>runtimeCost</th>\n",
       "      <th>cpu_usage</th>\n",
       "      <th>memory_usage</th>\n",
       "    </tr>\n",
       "  </thead>\n",
       "  <tbody>\n",
       "    <tr>\n",
       "      <th>0</th>\n",
       "      <td>pool24-600-512-0004546402</td>\n",
       "      <td>0.058268</td>\n",
       "      <td>0.600000</td>\n",
       "      <td>313.187500</td>\n",
       "    </tr>\n",
       "    <tr>\n",
       "      <th>1</th>\n",
       "      <td>pool22-300-128-0003702527</td>\n",
       "      <td>0.334085</td>\n",
       "      <td>0.098253</td>\n",
       "      <td>49.406250</td>\n",
       "    </tr>\n",
       "    <tr>\n",
       "      <th>2</th>\n",
       "      <td>pool26-1000-1024-0001996304</td>\n",
       "      <td>0.183630</td>\n",
       "      <td>0.174525</td>\n",
       "      <td>51.027344</td>\n",
       "    </tr>\n",
       "    <tr>\n",
       "      <th>3</th>\n",
       "      <td>pool24-600-512-0006653892</td>\n",
       "      <td>0.047347</td>\n",
       "      <td>0.433650</td>\n",
       "      <td>307.187500</td>\n",
       "    </tr>\n",
       "    <tr>\n",
       "      <th>4</th>\n",
       "      <td>pool22-300-128-0004007403</td>\n",
       "      <td>0.184775</td>\n",
       "      <td>0.152065</td>\n",
       "      <td>45.281250</td>\n",
       "    </tr>\n",
       "  </tbody>\n",
       "</table>\n",
       "</div>"
      ],
      "text/plain": [
       "                         podID  runtimeCost  cpu_usage  memory_usage\n",
       "0    pool24-600-512-0004546402     0.058268   0.600000    313.187500\n",
       "1    pool22-300-128-0003702527     0.334085   0.098253     49.406250\n",
       "2  pool26-1000-1024-0001996304     0.183630   0.174525     51.027344\n",
       "3    pool24-600-512-0006653892     0.047347   0.433650    307.187500\n",
       "4    pool22-300-128-0004007403     0.184775   0.152065     45.281250"
      ]
     },
     "execution_count": 8,
     "metadata": {},
     "output_type": "execute_result"
    }
   ],
   "source": [
    "request_traces.head()"
   ]
  },
  {
   "cell_type": "code",
   "execution_count": 9,
   "metadata": {},
   "outputs": [
    {
     "data": {
      "text/html": [
       "<div>\n",
       "<style scoped>\n",
       "    .dataframe tbody tr th:only-of-type {\n",
       "        vertical-align: middle;\n",
       "    }\n",
       "\n",
       "    .dataframe tbody tr th {\n",
       "        vertical-align: top;\n",
       "    }\n",
       "\n",
       "    .dataframe thead th {\n",
       "        text-align: right;\n",
       "    }\n",
       "</style>\n",
       "<table border=\"1\" class=\"dataframe\">\n",
       "  <thead>\n",
       "    <tr style=\"text-align: right;\">\n",
       "      <th></th>\n",
       "      <th>day</th>\n",
       "      <th>time</th>\n",
       "      <th>clusterName</th>\n",
       "      <th>funcName</th>\n",
       "      <th>userID</th>\n",
       "      <th>requestID</th>\n",
       "      <th>totalCost_cold_start</th>\n",
       "      <th>podAllocationCost</th>\n",
       "      <th>deployCodeCost</th>\n",
       "      <th>deployDependencyCost</th>\n",
       "      <th>schedulingCost</th>\n",
       "      <th>podID</th>\n",
       "      <th>cpu_cores</th>\n",
       "      <th>memory_mb</th>\n",
       "    </tr>\n",
       "  </thead>\n",
       "  <tbody>\n",
       "    <tr>\n",
       "      <th>0</th>\n",
       "      <td>9</td>\n",
       "      <td>777600.021</td>\n",
       "      <td>2</td>\n",
       "      <td>817</td>\n",
       "      <td>274</td>\n",
       "      <td>514e6fd088fcf2107be15af772f2bd41599d4eba2e650f...</td>\n",
       "      <td>3.591384</td>\n",
       "      <td>0.021593</td>\n",
       "      <td>1.279</td>\n",
       "      <td>0.0</td>\n",
       "      <td>2.290791</td>\n",
       "      <td>pool24-600-512-0003012116</td>\n",
       "      <td>0.6</td>\n",
       "      <td>512</td>\n",
       "    </tr>\n",
       "    <tr>\n",
       "      <th>1</th>\n",
       "      <td>9</td>\n",
       "      <td>777600.261</td>\n",
       "      <td>2</td>\n",
       "      <td>462</td>\n",
       "      <td>431</td>\n",
       "      <td>370d04bf0e14a4e773e2b5e04a6a5edcb9abf4d85b21f5...</td>\n",
       "      <td>0.213559</td>\n",
       "      <td>0.000765</td>\n",
       "      <td>0.002</td>\n",
       "      <td>0.0</td>\n",
       "      <td>0.210794</td>\n",
       "      <td>pool22-300-128-0005673850</td>\n",
       "      <td>0.3</td>\n",
       "      <td>128</td>\n",
       "    </tr>\n",
       "    <tr>\n",
       "      <th>2</th>\n",
       "      <td>9</td>\n",
       "      <td>777600.329</td>\n",
       "      <td>1</td>\n",
       "      <td>1145</td>\n",
       "      <td>421</td>\n",
       "      <td>3971b40a9c0c2c39711ba6addca16d0106e4a778ddf9d1...</td>\n",
       "      <td>0.677392</td>\n",
       "      <td>0.015221</td>\n",
       "      <td>0.622</td>\n",
       "      <td>0.0</td>\n",
       "      <td>0.040171</td>\n",
       "      <td>pool22-300-128-0001906247</td>\n",
       "      <td>0.3</td>\n",
       "      <td>128</td>\n",
       "    </tr>\n",
       "    <tr>\n",
       "      <th>3</th>\n",
       "      <td>9</td>\n",
       "      <td>777600.343</td>\n",
       "      <td>4</td>\n",
       "      <td>2028</td>\n",
       "      <td>197</td>\n",
       "      <td>ee033cc5912fd8493c08e377dbec136b6349434238fcac...</td>\n",
       "      <td>2.324909</td>\n",
       "      <td>0.020523</td>\n",
       "      <td>1.651</td>\n",
       "      <td>0.0</td>\n",
       "      <td>0.653386</td>\n",
       "      <td>pool30-1800-2048-0001446829</td>\n",
       "      <td>1.8</td>\n",
       "      <td>2048</td>\n",
       "    </tr>\n",
       "    <tr>\n",
       "      <th>4</th>\n",
       "      <td>9</td>\n",
       "      <td>777600.525</td>\n",
       "      <td>4</td>\n",
       "      <td>1365</td>\n",
       "      <td>602</td>\n",
       "      <td>c2d685a2a59e655665e258091db2af5e53933ce3fca566...</td>\n",
       "      <td>5.236194</td>\n",
       "      <td>0.019833</td>\n",
       "      <td>1.604</td>\n",
       "      <td>0.0</td>\n",
       "      <td>3.612361</td>\n",
       "      <td>pool26-1000-1024-0005731082</td>\n",
       "      <td>1.0</td>\n",
       "      <td>1024</td>\n",
       "    </tr>\n",
       "  </tbody>\n",
       "</table>\n",
       "</div>"
      ],
      "text/plain": [
       "   day        time  clusterName  funcName  userID  \\\n",
       "0    9  777600.021            2       817     274   \n",
       "1    9  777600.261            2       462     431   \n",
       "2    9  777600.329            1      1145     421   \n",
       "3    9  777600.343            4      2028     197   \n",
       "4    9  777600.525            4      1365     602   \n",
       "\n",
       "                                           requestID  totalCost_cold_start  \\\n",
       "0  514e6fd088fcf2107be15af772f2bd41599d4eba2e650f...              3.591384   \n",
       "1  370d04bf0e14a4e773e2b5e04a6a5edcb9abf4d85b21f5...              0.213559   \n",
       "2  3971b40a9c0c2c39711ba6addca16d0106e4a778ddf9d1...              0.677392   \n",
       "3  ee033cc5912fd8493c08e377dbec136b6349434238fcac...              2.324909   \n",
       "4  c2d685a2a59e655665e258091db2af5e53933ce3fca566...              5.236194   \n",
       "\n",
       "   podAllocationCost  deployCodeCost  deployDependencyCost  schedulingCost  \\\n",
       "0           0.021593           1.279                   0.0        2.290791   \n",
       "1           0.000765           0.002                   0.0        0.210794   \n",
       "2           0.015221           0.622                   0.0        0.040171   \n",
       "3           0.020523           1.651                   0.0        0.653386   \n",
       "4           0.019833           1.604                   0.0        3.612361   \n",
       "\n",
       "                         podID  cpu_cores  memory_mb  \n",
       "0    pool24-600-512-0003012116        0.6        512  \n",
       "1    pool22-300-128-0005673850        0.3        128  \n",
       "2    pool22-300-128-0001906247        0.3        128  \n",
       "3  pool30-1800-2048-0001446829        1.8       2048  \n",
       "4  pool26-1000-1024-0005731082        1.0       1024  "
      ]
     },
     "execution_count": 9,
     "metadata": {},
     "output_type": "execute_result"
    }
   ],
   "source": [
    "coldstart_traces.head()"
   ]
  },
  {
   "cell_type": "code",
   "execution_count": 10,
   "metadata": {},
   "outputs": [],
   "source": [
    "coldstart_traces['on_user_cold_start_time_ms'] = coldstart_traces['deployCodeCost'] * 1000 + coldstart_traces['deployDependencyCost'] * 1000"
   ]
  },
  {
   "cell_type": "code",
   "execution_count": 11,
   "metadata": {},
   "outputs": [
    {
     "data": {
      "text/html": [
       "<div>\n",
       "<style scoped>\n",
       "    .dataframe tbody tr th:only-of-type {\n",
       "        vertical-align: middle;\n",
       "    }\n",
       "\n",
       "    .dataframe tbody tr th {\n",
       "        vertical-align: top;\n",
       "    }\n",
       "\n",
       "    .dataframe thead th {\n",
       "        text-align: right;\n",
       "    }\n",
       "</style>\n",
       "<table border=\"1\" class=\"dataframe\">\n",
       "  <thead>\n",
       "    <tr style=\"text-align: right;\">\n",
       "      <th></th>\n",
       "      <th>day</th>\n",
       "      <th>time</th>\n",
       "      <th>clusterName</th>\n",
       "      <th>funcName</th>\n",
       "      <th>userID</th>\n",
       "      <th>requestID</th>\n",
       "      <th>totalCost_cold_start</th>\n",
       "      <th>podAllocationCost</th>\n",
       "      <th>deployCodeCost</th>\n",
       "      <th>deployDependencyCost</th>\n",
       "      <th>schedulingCost</th>\n",
       "      <th>podID</th>\n",
       "      <th>cpu_cores</th>\n",
       "      <th>memory_mb</th>\n",
       "      <th>on_user_cold_start_time_ms</th>\n",
       "    </tr>\n",
       "  </thead>\n",
       "  <tbody>\n",
       "    <tr>\n",
       "      <th>0</th>\n",
       "      <td>9</td>\n",
       "      <td>777600.021</td>\n",
       "      <td>2</td>\n",
       "      <td>817</td>\n",
       "      <td>274</td>\n",
       "      <td>514e6fd088fcf2107be15af772f2bd41599d4eba2e650f...</td>\n",
       "      <td>3.591384</td>\n",
       "      <td>0.021593</td>\n",
       "      <td>1.279</td>\n",
       "      <td>0.0</td>\n",
       "      <td>2.290791</td>\n",
       "      <td>pool24-600-512-0003012116</td>\n",
       "      <td>0.6</td>\n",
       "      <td>512</td>\n",
       "      <td>1279.0</td>\n",
       "    </tr>\n",
       "    <tr>\n",
       "      <th>1</th>\n",
       "      <td>9</td>\n",
       "      <td>777600.261</td>\n",
       "      <td>2</td>\n",
       "      <td>462</td>\n",
       "      <td>431</td>\n",
       "      <td>370d04bf0e14a4e773e2b5e04a6a5edcb9abf4d85b21f5...</td>\n",
       "      <td>0.213559</td>\n",
       "      <td>0.000765</td>\n",
       "      <td>0.002</td>\n",
       "      <td>0.0</td>\n",
       "      <td>0.210794</td>\n",
       "      <td>pool22-300-128-0005673850</td>\n",
       "      <td>0.3</td>\n",
       "      <td>128</td>\n",
       "      <td>2.0</td>\n",
       "    </tr>\n",
       "    <tr>\n",
       "      <th>2</th>\n",
       "      <td>9</td>\n",
       "      <td>777600.329</td>\n",
       "      <td>1</td>\n",
       "      <td>1145</td>\n",
       "      <td>421</td>\n",
       "      <td>3971b40a9c0c2c39711ba6addca16d0106e4a778ddf9d1...</td>\n",
       "      <td>0.677392</td>\n",
       "      <td>0.015221</td>\n",
       "      <td>0.622</td>\n",
       "      <td>0.0</td>\n",
       "      <td>0.040171</td>\n",
       "      <td>pool22-300-128-0001906247</td>\n",
       "      <td>0.3</td>\n",
       "      <td>128</td>\n",
       "      <td>622.0</td>\n",
       "    </tr>\n",
       "    <tr>\n",
       "      <th>3</th>\n",
       "      <td>9</td>\n",
       "      <td>777600.343</td>\n",
       "      <td>4</td>\n",
       "      <td>2028</td>\n",
       "      <td>197</td>\n",
       "      <td>ee033cc5912fd8493c08e377dbec136b6349434238fcac...</td>\n",
       "      <td>2.324909</td>\n",
       "      <td>0.020523</td>\n",
       "      <td>1.651</td>\n",
       "      <td>0.0</td>\n",
       "      <td>0.653386</td>\n",
       "      <td>pool30-1800-2048-0001446829</td>\n",
       "      <td>1.8</td>\n",
       "      <td>2048</td>\n",
       "      <td>1651.0</td>\n",
       "    </tr>\n",
       "    <tr>\n",
       "      <th>4</th>\n",
       "      <td>9</td>\n",
       "      <td>777600.525</td>\n",
       "      <td>4</td>\n",
       "      <td>1365</td>\n",
       "      <td>602</td>\n",
       "      <td>c2d685a2a59e655665e258091db2af5e53933ce3fca566...</td>\n",
       "      <td>5.236194</td>\n",
       "      <td>0.019833</td>\n",
       "      <td>1.604</td>\n",
       "      <td>0.0</td>\n",
       "      <td>3.612361</td>\n",
       "      <td>pool26-1000-1024-0005731082</td>\n",
       "      <td>1.0</td>\n",
       "      <td>1024</td>\n",
       "      <td>1604.0</td>\n",
       "    </tr>\n",
       "  </tbody>\n",
       "</table>\n",
       "</div>"
      ],
      "text/plain": [
       "   day        time  clusterName  funcName  userID  \\\n",
       "0    9  777600.021            2       817     274   \n",
       "1    9  777600.261            2       462     431   \n",
       "2    9  777600.329            1      1145     421   \n",
       "3    9  777600.343            4      2028     197   \n",
       "4    9  777600.525            4      1365     602   \n",
       "\n",
       "                                           requestID  totalCost_cold_start  \\\n",
       "0  514e6fd088fcf2107be15af772f2bd41599d4eba2e650f...              3.591384   \n",
       "1  370d04bf0e14a4e773e2b5e04a6a5edcb9abf4d85b21f5...              0.213559   \n",
       "2  3971b40a9c0c2c39711ba6addca16d0106e4a778ddf9d1...              0.677392   \n",
       "3  ee033cc5912fd8493c08e377dbec136b6349434238fcac...              2.324909   \n",
       "4  c2d685a2a59e655665e258091db2af5e53933ce3fca566...              5.236194   \n",
       "\n",
       "   podAllocationCost  deployCodeCost  deployDependencyCost  schedulingCost  \\\n",
       "0           0.021593           1.279                   0.0        2.290791   \n",
       "1           0.000765           0.002                   0.0        0.210794   \n",
       "2           0.015221           0.622                   0.0        0.040171   \n",
       "3           0.020523           1.651                   0.0        0.653386   \n",
       "4           0.019833           1.604                   0.0        3.612361   \n",
       "\n",
       "                         podID  cpu_cores  memory_mb  \\\n",
       "0    pool24-600-512-0003012116        0.6        512   \n",
       "1    pool22-300-128-0005673850        0.3        128   \n",
       "2    pool22-300-128-0001906247        0.3        128   \n",
       "3  pool30-1800-2048-0001446829        1.8       2048   \n",
       "4  pool26-1000-1024-0005731082        1.0       1024   \n",
       "\n",
       "   on_user_cold_start_time_ms  \n",
       "0                      1279.0  \n",
       "1                         2.0  \n",
       "2                       622.0  \n",
       "3                      1651.0  \n",
       "4                      1604.0  "
      ]
     },
     "execution_count": 11,
     "metadata": {},
     "output_type": "execute_result"
    }
   ],
   "source": [
    "coldstart_traces.head()"
   ]
  },
  {
   "cell_type": "code",
   "execution_count": 12,
   "metadata": {},
   "outputs": [
    {
     "data": {
      "text/plain": [
       "Index(['day', 'time', 'clusterName', 'funcName', 'userID', 'requestID',\n",
       "       'totalCost_cold_start', 'podAllocationCost', 'deployCodeCost',\n",
       "       'deployDependencyCost', 'schedulingCost', 'podID', 'cpu_cores',\n",
       "       'memory_mb', 'on_user_cold_start_time_ms'],\n",
       "      dtype='object')"
      ]
     },
     "execution_count": 12,
     "metadata": {},
     "output_type": "execute_result"
    }
   ],
   "source": [
    "coldstart_traces.columns"
   ]
  },
  {
   "cell_type": "markdown",
   "metadata": {},
   "source": [
    "## Release"
   ]
  },
  {
   "cell_type": "code",
   "execution_count": 13,
   "metadata": {},
   "outputs": [
    {
     "data": {
      "text/plain": [
       "0"
      ]
     },
     "execution_count": 13,
     "metadata": {},
     "output_type": "execute_result"
    }
   ],
   "source": [
    "execution_duration_data = request_traces[['podID', 'runtimeCost']].copy()\n",
    "del request_traces\n",
    "gc.collect() # reduce the memory footprint of this analysis code"
   ]
  },
  {
   "cell_type": "code",
   "execution_count": 14,
   "metadata": {},
   "outputs": [],
   "source": [
    "def convert_to_hashmap(data):\n",
    "    hashmap = {}\n",
    "    for funcName, group in data.groupby('podID'):\n",
    "        hashmap[funcName] = group\n",
    "    return hashmap\n",
    "execution_duration_hashmap = convert_to_hashmap(execution_duration_data)"
   ]
  },
  {
   "cell_type": "markdown",
   "metadata": {},
   "source": [
    "### Caclulate Billable Resources"
   ]
  },
  {
   "cell_type": "code",
   "execution_count": 15,
   "metadata": {},
   "outputs": [],
   "source": [
    "resource_usage_cpu_diffs = []\n",
    "resource_usage_mem_diffs = []\n",
    "on_user_cold_start_latency_ms = []\n",
    "\n",
    "for index, row in coldstart_traces.iterrows():\n",
    "    podID = row['podID']\n",
    "    if podID not in execution_duration_hashmap:\n",
    "        continue\n",
    "    on_user_cold_start_latency_ms.append(row['on_user_cold_start_time_ms'])\n",
    "    execution_duration_df = execution_duration_hashmap[podID]\n",
    "\n",
    "    total_execution_duration_ms = execution_duration_df['runtimeCost'].sum() * 1000\n",
    "    wall_time_diff = total_execution_duration_ms - row['on_user_cold_start_time_ms'] \n",
    "\n",
    "    cpu_diff = wall_time_diff * row['cpu_cores'] # vcpu-ms\n",
    "    mem_diff = wall_time_diff * row['memory_mb'] # mb * ms\n",
    "\n",
    "    resource_usage_cpu_diffs.append(cpu_diff)\n",
    "    resource_usage_mem_diffs.append(mem_diff)\n",
    "\n"
   ]
  },
  {
   "cell_type": "code",
   "execution_count": 16,
   "metadata": {},
   "outputs": [],
   "source": [
    "billables_diff = {\n",
    "    \"cpu\": resource_usage_cpu_diffs,\n",
    "    \"memory\": resource_usage_mem_diffs\n",
    "}"
   ]
  },
  {
   "cell_type": "code",
   "execution_count": 17,
   "metadata": {},
   "outputs": [],
   "source": [
    "processed_data_dir = os.path.join(TRACE_DATA_DIR, 'processed_data')\n",
    "os.makedirs(processed_data_dir, exist_ok=True)\n",
    "processed_data_path = os.path.join(processed_data_dir, 'billables_diff.pkl')"
   ]
  },
  {
   "cell_type": "code",
   "execution_count": 18,
   "metadata": {},
   "outputs": [],
   "source": [
    "# dump to pickle\n",
    "with open(processed_data_path, \"wb\") as f:\n",
    "    pickle.dump(billables_diff, f)"
   ]
  },
  {
   "cell_type": "code",
   "execution_count": 19,
   "metadata": {},
   "outputs": [],
   "source": [
    "# load from pickle\n",
    "# with open(processed_data_path, \"rb\") as f:\n",
    "#     billables_diff = pickle.load(f)\n",
    "resource_usage_cpu_diffs = billables_diff[\"cpu\"]\n",
    "resource_usage_mem_diffs = billables_diff[\"memory\"]"
   ]
  },
  {
   "cell_type": "code",
   "execution_count": 20,
   "metadata": {},
   "outputs": [],
   "source": [
    "resource_usage_cpu_diffs_vcpu_sec = np.array(resource_usage_cpu_diffs) / 1000 # convert to vcpu-sec\n",
    "resource_usage_mem_diffs_gb_sec = np.array(resource_usage_mem_diffs) / 1024 / 1000 # convert to gb-sec"
   ]
  },
  {
   "cell_type": "code",
   "execution_count": 21,
   "metadata": {},
   "outputs": [
    {
     "data": {
      "text/plain": [
       "388955"
      ]
     },
     "execution_count": 21,
     "metadata": {},
     "output_type": "execute_result"
    }
   ],
   "source": [
    "len(resource_usage_mem_diffs_gb_sec)"
   ]
  },
  {
   "cell_type": "markdown",
   "metadata": {},
   "source": [
    "## Plotting"
   ]
  },
  {
   "cell_type": "markdown",
   "metadata": {},
   "source": [
    "### Billable Resources Diff"
   ]
  },
  {
   "cell_type": "code",
   "execution_count": 22,
   "metadata": {},
   "outputs": [
    {
     "name": "stdout",
     "output_type": "stream",
     "text": [
      "Figure saved to figures/billable_resource_diffs.pdf\n"
     ]
    },
    {
     "data": {
      "image/png": "[encoded data removed]",
      "text/plain": [
       "<Figure size 600x150 with 1 Axes>"
      ]
     },
     "metadata": {},
     "output_type": "display_data"
    }
   ],
   "source": [
    "fig, ax = plt.subplots(figsize=(6, 1.5))\n",
    "\n",
    "s = np.sort(resource_usage_cpu_diffs_vcpu_sec)\n",
    "cdf = np.arange(1, s.size + 1) / s.size\n",
    "ax.plot(s, cdf, label=\"CPU\")\n",
    "\n",
    "s = np.sort(resource_usage_mem_diffs_gb_sec)\n",
    "cdf = np.arange(1, s.size + 1) / s.size\n",
    "ax.plot(s, cdf, label=\"Mem\", linestyle='--')\n",
    "\n",
    "ax.set_xlabel('Billable CPU and Memory Diffs in vCPU-sec and GB-sec', fontsize=12)\n",
    "ax.set_ylabel('CDF', fontsize=12)\n",
    "ax.legend(title=\"Resource\", fontsize=12, title_fontsize=12, bbox_to_anchor=(0, 1), loc='upper left')\n",
    "\n",
    "# Use symlog for x-axis\n",
    "ax.set_xscale('symlog', linthresh=1.0, linscale=1.0)\n",
    "ax.grid(alpha=0.5, linestyle='--', linewidth=0.5)\n",
    "\n",
    "# scientific notation\n",
    "from matplotlib.ticker import LogFormatterSciNotation\n",
    "ax.xaxis.set_major_formatter(LogFormatterSciNotation(base=10))\n",
    "ax.xaxis.set_minor_formatter(LogFormatterSciNotation(base=10))\n",
    "ax.tick_params(axis='x', rotation=45, labelsize=12)\n",
    "ax.tick_params(axis='y', labelsize=12)\n",
    "\n",
    "# ←– Arrow and label showing 'more profitable' to the right\n",
    "ax.annotate(\n",
    "    '',\n",
    "    xy=(0.9, 1.08),\n",
    "    xytext=(0.1, 1.08),\n",
    "    xycoords='axes fraction',\n",
    "    arrowprops=dict(arrowstyle='->', lw=1)\n",
    ")\n",
    "ax.text(\n",
    "    0.72, 1.1,\n",
    "    'More Profitable',\n",
    "    transform=ax.transAxes,\n",
    "    ha='center',\n",
    "    va='bottom',\n",
    "    fontsize=12\n",
    ")\n",
    "\n",
    "plt.savefig('figures/billable_resource_diffs.pdf', bbox_inches='tight')\n",
    "print(\"Figure saved to figures/billable_resource_diffs.pdf\")\n"
   ]
  },
  {
   "cell_type": "code",
   "execution_count": 23,
   "metadata": {},
   "outputs": [
    {
     "name": "stdout",
     "output_type": "stream",
     "text": [
      "p42.1 Billable CPU Diffs in vCPU-seconds: 0.0\n",
      "p42.1 Billable Memory Diffs in GB-seconds: 0.0\n",
      "p42.2 Billable CPU Diffs in vCPU-seconds: 8.699999999999973e-06\n",
      "p42.2 Billable Memory Diffs in GB-seconds: 3.7500000000000035e-06\n",
      "The results show that 42.1% of cold starts produce a zero or negative difference.\n"
     ]
    }
   ],
   "source": [
    "print(\"p42.1 Billable CPU Diffs in vCPU-seconds:\", np.percentile(resource_usage_cpu_diffs_vcpu_sec, 42.1))\n",
    "print(\"p42.1 Billable Memory Diffs in GB-seconds:\", np.percentile(resource_usage_mem_diffs_gb_sec, 42.1))\n",
    "print(\"p42.2 Billable CPU Diffs in vCPU-seconds:\", np.percentile(resource_usage_cpu_diffs_vcpu_sec, 42.2))\n",
    "print(\"p42.2 Billable Memory Diffs in GB-seconds:\", np.percentile(resource_usage_mem_diffs_gb_sec, 42.2))\n",
    "\n",
    "print(f\"The results show that 42.1% of cold starts produce a zero or negative difference.\")"
   ]
  },
  {
   "cell_type": "code",
   "execution_count": null,
   "metadata": {},
   "outputs": [],
   "source": []
  }
 ],
 "metadata": {
  "kernelspec": {
   "display_name": "venv",
   "language": "python",
   "name": "python3"
  },
  "language_info": {
   "codemirror_mode": {
    "name": "ipython",
    "version": 3
   },
   "file_extension": ".py",
   "mimetype": "text/x-python",
   "name": "python",
   "nbconvert_exporter": "python",
   "pygments_lexer": "ipython3",
   "version": "3.12.3"
  }
 },
 "nbformat": 4,
 "nbformat_minor": 2
}
