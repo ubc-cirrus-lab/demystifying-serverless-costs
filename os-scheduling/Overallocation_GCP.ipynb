{
 "cells": [
  {
   "cell_type": "markdown",
   "metadata": {},
   "source": [
    "# CPU Over-Allocation (GCP)"
   ]
  },
  {
   "cell_type": "code",
   "execution_count": 1,
   "metadata": {},
   "outputs": [],
   "source": [
    "import pandas as pd\n",
    "import numpy as np\n",
    "import matplotlib.pyplot as plt\n",
    "from matplotlib.lines import Line2D\n",
    "import scipy.stats as stats\n",
    "import pickle\n",
    "import os\n",
    "import re\n",
    "import json\n",
    "import random\n",
    "from collections import defaultdict, Counter\n",
    "import matplotlib.ticker as ticker\n"
   ]
  },
  {
   "cell_type": "code",
   "execution_count": 2,
   "metadata": {},
   "outputs": [
    {
     "name": "stdout",
     "output_type": "stream",
     "text": [
      "================================================================================\n",
      "CPU Over-Allocation (GCP)\n",
      "--------------------------------------------------------------------------------\n"
     ]
    }
   ],
   "source": [
    "print(\"=\"*80)\n",
    "print(\"CPU Over-Allocation (GCP)\")\n",
    "print(\"-\"*80)"
   ]
  },
  {
   "cell_type": "code",
   "execution_count": 3,
   "metadata": {},
   "outputs": [],
   "source": [
    "# ensure figures dir exists\n",
    "os.makedirs('figures', exist_ok=True)"
   ]
  },
  {
   "cell_type": "markdown",
   "metadata": {},
   "source": [
    "## Read Execution Logs"
   ]
  },
  {
   "cell_type": "code",
   "execution_count": 4,
   "metadata": {},
   "outputs": [],
   "source": [
    "EXECUTION_LOGS_DIR = '../dataset/cpu_overallocation/gcp'"
   ]
  },
  {
   "cell_type": "code",
   "execution_count": 5,
   "metadata": {},
   "outputs": [],
   "source": [
    "logs_data = {}\n",
    "for filename in os.listdir(EXECUTION_LOGS_DIR):\n",
    "    if filename.endswith('.json'):\n",
    "        with open(os.path.join(EXECUTION_LOGS_DIR, filename), 'r') as f:\n",
    "            logs_data[filename[:-5]] = json.load(f)"
   ]
  },
  {
   "cell_type": "code",
   "execution_count": 6,
   "metadata": {},
   "outputs": [],
   "source": [
    "data_server = {}\n",
    "data_client = {}\n",
    "for key, value in logs_data.items():\n",
    "    vcpu_size = float(re.search(r'\\d+\\.\\d+', key).group())\n",
    "    if vcpu_size not in data_server:\n",
    "        data_server[vcpu_size] = []\n",
    "    if vcpu_size not in data_client:\n",
    "        data_client[vcpu_size] = []\n",
    "    data_server[vcpu_size] += value['server']\n",
    "    data_client[vcpu_size] += value['client']"
   ]
  },
  {
   "cell_type": "code",
   "execution_count": 7,
   "metadata": {},
   "outputs": [],
   "source": [
    "def parse_logentry(log_entry: str) -> dict:\n",
    "    latency_match = re.search(r\"'latency': '([\\d.]+)s'\", log_entry)\n",
    "    duration_ms = float(latency_match.group(1)) * 1000 if latency_match else None\n",
    "    \n",
    "    trace_match = re.search(r'/traces/([a-f0-9]+)', log_entry)\n",
    "    trace_id = trace_match.group(1) if trace_match else None\n",
    "    \n",
    "    return {\n",
    "        'Duration': duration_ms,\n",
    "        'trace_id': trace_id\n",
    "    }"
   ]
  },
  {
   "cell_type": "code",
   "execution_count": 8,
   "metadata": {},
   "outputs": [],
   "source": [
    "def parse_header(header: str) -> dict:\n",
    "    trace_match = re.search(r\"'x-cloud-trace-context': ['\\\"]([a-f0-9]+)['\\\"]\", header)\n",
    "    trace_id = trace_match.group(1) if trace_match else None\n",
    "    \n",
    "    return {\n",
    "        'trace_id': trace_id\n",
    "    }"
   ]
  },
  {
   "cell_type": "code",
   "execution_count": 9,
   "metadata": {},
   "outputs": [],
   "source": [
    "def parse_payload(payload):\n",
    "    try:\n",
    "        parts = payload.strip('\"').split('+')\n",
    "\n",
    "        init_time = int(parts[0])\n",
    "        CPU_model = parts[1]\n",
    "        latency = int(parts[3]) - int(parts[2])\n",
    "\n",
    "        return {\n",
    "            \"init_time\": init_time,\n",
    "            \"cpu\": CPU_model,\n",
    "            \"measured_latency\": latency / 1e6 # convert to milliseconds\n",
    "        }\n",
    "    except:\n",
    "        return {\n",
    "            \"error\": \"Failed to parse payload\",\n",
    "        }\n"
   ]
  },
  {
   "cell_type": "code",
   "execution_count": 10,
   "metadata": {},
   "outputs": [],
   "source": [
    "data_client = {k: [x|parse_payload(x['Payload'])|parse_header(x['Headers']) for x in v] for k, v in data_client.items()}"
   ]
  },
  {
   "cell_type": "code",
   "execution_count": 11,
   "metadata": {},
   "outputs": [],
   "source": [
    "data_server = {k: [parse_logentry(x) for x in v] for k, v in data_server.items()}"
   ]
  },
  {
   "cell_type": "code",
   "execution_count": 12,
   "metadata": {},
   "outputs": [],
   "source": [
    "data = {}\n",
    "\n",
    "data_client_dict = {k: {client_entry['trace_id']: client_entry for client_entry in data_client[k]} for k in data_client}\n",
    "\n",
    "for k in data_server.keys():\n",
    "    if k not in data:\n",
    "        data[k] = []\n",
    "\n",
    "    client_dict = data_client_dict.get(k, {})\n",
    "\n",
    "    for server_log_entry in data_server[k]:\n",
    "        trace_id = server_log_entry['trace_id']\n",
    "\n",
    "        client_entry = client_dict.get(trace_id)\n",
    "\n",
    "        if client_entry:\n",
    "            merged_entry = {**client_entry, **server_log_entry}\n",
    "            data[k].append(merged_entry)"
   ]
  },
  {
   "cell_type": "code",
   "execution_count": 13,
   "metadata": {},
   "outputs": [],
   "source": [
    "for k in data.keys():\n",
    "    data[k] = [x for x in data[k] if 'error' not in x]"
   ]
  },
  {
   "cell_type": "markdown",
   "metadata": {},
   "source": [
    "## Plotting"
   ]
  },
  {
   "cell_type": "code",
   "execution_count": 14,
   "metadata": {},
   "outputs": [],
   "source": [
    "def get_execution_duration_proportion_based(cpu_time, vCPUs):\n",
    "    return cpu_time / vCPUs"
   ]
  },
  {
   "cell_type": "code",
   "execution_count": 15,
   "metadata": {},
   "outputs": [],
   "source": [
    "required_cpu_time_list = [x['Duration'] for x in data[1]]"
   ]
  },
  {
   "cell_type": "code",
   "execution_count": 16,
   "metadata": {},
   "outputs": [],
   "source": [
    "gcf_vcpu_list = list(data.keys())\n",
    "gcf_vcpu_list.sort()\n",
    "vcpu_vs_avg_execution_duration_pair_list_by_gcf = [(vcpu, np.mean([x['Duration'] for x in data[vcpu]])) for vcpu in gcf_vcpu_list]"
   ]
  },
  {
   "cell_type": "code",
   "execution_count": 17,
   "metadata": {},
   "outputs": [],
   "source": [
    "vcpu_vs_execution_duration_pair_list_by_proportion = [(vcpu, get_execution_duration_proportion_based(np.mean(required_cpu_time_list), vcpu)) for vcpu in gcf_vcpu_list]\n",
    "vcpu_vs_execution_duration_pair_list_by_proportion_p5_quantile = [(vcpu, get_execution_duration_proportion_based(np.percentile(required_cpu_time_list, 5), vcpu)) for vcpu in gcf_vcpu_list]\n",
    "vcpu_vs_execution_duration_pair_list_by_proportion_p95_quantile = [(vcpu, get_execution_duration_proportion_based(np.percentile(required_cpu_time_list, 95), vcpu)) for vcpu in gcf_vcpu_list]"
   ]
  },
  {
   "cell_type": "code",
   "execution_count": 18,
   "metadata": {},
   "outputs": [],
   "source": [
    "scatter_x = []\n",
    "scatter_y = []\n",
    "for vcpu, value in data.items():\n",
    "    if vcpu > 1:\n",
    "        continue\n",
    "    scatter_x += [vcpu] * len(value)\n",
    "    scatter_y += [x['Duration'] for x in value]"
   ]
  },
  {
   "cell_type": "code",
   "execution_count": 19,
   "metadata": {},
   "outputs": [],
   "source": [
    "def draw_vertical_double_arrow(\n",
    "    ax,\n",
    "    x,\n",
    "    y_range,\n",
    "    color='black',\n",
    "    bar_width=0.01,\n",
    "    bar_range=None,\n",
    "    linewidth=1,\n",
    "    linestyle='solid',\n",
    "    zorder=5\n",
    "):\n",
    "    y_start, y_end = y_range\n",
    "\n",
    "    # Draw the double-headed arrow\n",
    "    ax.annotate(\n",
    "        '',\n",
    "        xy=(x, y_end),\n",
    "        xytext=(x, y_start),\n",
    "        arrowprops=dict(\n",
    "            arrowstyle='<->',\n",
    "            color=color,\n",
    "            linewidth=linewidth,\n",
    "            linestyle=linestyle,\n",
    "            shrinkA=0,\n",
    "            shrinkB=0\n",
    "        ),\n",
    "        zorder=zorder\n",
    "    )\n",
    "\n",
    "    # Determine tick bar x-range\n",
    "    if bar_range is not None:\n",
    "        x0, x1 = bar_range\n",
    "    else:\n",
    "        x0 = x - bar_width / 2\n",
    "        x1 = x + bar_width / 2\n",
    "\n",
    "    # Draw small horizontal ticks at both ends\n",
    "    for y in (y_start, y_end):\n",
    "        ax.hlines(\n",
    "            y,\n",
    "            x0,\n",
    "            x1,\n",
    "            colors=color,\n",
    "            linewidth=linewidth,\n",
    "            zorder=zorder\n",
    "        )\n"
   ]
  },
  {
   "cell_type": "code",
   "execution_count": 20,
   "metadata": {},
   "outputs": [],
   "source": [
    "def draw_vertical_measure(\n",
    "    ax,\n",
    "    x,\n",
    "    y_range,\n",
    "    label,\n",
    "    color='black',\n",
    "    bar_width=0.01,\n",
    "    linewidth=1,\n",
    "    linestyle='solid',\n",
    "    zorder=5,\n",
    "    text_offset=(0.02, 0)\n",
    "):\n",
    "    y0, y1 = y_range\n",
    "    # arrow\n",
    "    ax.annotate(\n",
    "        '',\n",
    "        xy=(x, y1), xytext=(x, y0),\n",
    "        arrowprops=dict(arrowstyle='<->',\n",
    "                        color=color,\n",
    "                        linewidth=linewidth,\n",
    "                        linestyle=linestyle,\n",
    "                        shrinkA=0, shrinkB=0),\n",
    "        zorder=zorder\n",
    "    )\n",
    "    # end‐ticks\n",
    "    for y in (y0, y1):\n",
    "        ax.hlines(y, x-bar_width/2, x+bar_width/2,\n",
    "                  colors=color, linewidth=linewidth, zorder=zorder)\n",
    "    # label\n",
    "    ymid = 0.5*(y0 + y1)\n",
    "    ax.text(\n",
    "        x + text_offset[0], ymid + text_offset[1], label,\n",
    "        va='center', ha='left',\n",
    "        bbox=dict(boxstyle='round,pad=0.2',\n",
    "                  facecolor='white',\n",
    "                  edgecolor=color,\n",
    "                  linewidth=linewidth),\n",
    "        zorder=zorder\n",
    "    )\n"
   ]
  },
  {
   "cell_type": "code",
   "execution_count": 21,
   "metadata": {},
   "outputs": [
    {
     "name": "stdout",
     "output_type": "stream",
     "text": [
      "Figure saved to 'figures/overallocation_gcp.pdf'\n"
     ]
    },
    {
     "data": {
      "image/png": "[encoded data removed]",
      "text/plain": [
       "<Figure size 500x300 with 1 Axes>"
      ]
     },
     "metadata": {},
     "output_type": "display_data"
    }
   ],
   "source": [
    "fig, ax = plt.subplots(nrows=1, ncols=1, figsize=(5, 3))\n",
    "\n",
    "scatter = ax.scatter(\n",
    "    x=scatter_x,\n",
    "    y=scatter_y,\n",
    "    label='Execution Duration Reported by GCP',\n",
    "    alpha=0.02,\n",
    "    s=1,\n",
    "    c='lightblue',\n",
    "    rasterized=True\n",
    ")\n",
    "\n",
    "line_aws = ax.plot(\n",
    "    [pair[0] for pair in vcpu_vs_avg_execution_duration_pair_list_by_gcf],\n",
    "    [pair[1] for pair in vcpu_vs_avg_execution_duration_pair_list_by_gcf],\n",
    "    label='Empirical Average Duration',\n",
    "    color='tab:blue',\n",
    "    linestyle='-',\n",
    "    alpha=1,\n",
    "    zorder=8,\n",
    "    linewidth=2\n",
    ")\n",
    "\n",
    "line_proportion = ax.plot(\n",
    "    [pair[0] for pair in vcpu_vs_execution_duration_pair_list_by_proportion],\n",
    "    [pair[1] for pair in vcpu_vs_execution_duration_pair_list_by_proportion],\n",
    "    label='Expected Duration (Average)',\n",
    "    color='tab:red',\n",
    "    linestyle='dashed',\n",
    "    alpha=1,\n",
    "    zorder=10,\n",
    "    linewidth=2\n",
    ")\n",
    "\n",
    "line_proportion2 = ax.plot(\n",
    "    [pair[0] for pair in vcpu_vs_execution_duration_pair_list_by_proportion_p5_quantile],\n",
    "    [pair[1] for pair in vcpu_vs_execution_duration_pair_list_by_proportion_p5_quantile],\n",
    "    label='Expected Duration (p5)',\n",
    "    color='tab:red',\n",
    "    linestyle='dotted',\n",
    "    zorder=10,\n",
    "    alpha=1\n",
    ")\n",
    "\n",
    "\n",
    "custom_scatter = Line2D(\n",
    "    [0], [0],\n",
    "    marker='o',\n",
    "    color='lightblue',\n",
    "    label='Execution Duration Reported by GCP',\n",
    "    markersize=8,\n",
    "    markerfacecolor='lightblue',\n",
    "    alpha=1,\n",
    "    linestyle='None'\n",
    ")\n",
    "\n",
    "handles, labels = ax.get_legend_handles_labels()\n",
    "\n",
    "handles = [\n",
    "    custom_scatter if label == 'Execution Duration Reported by GCP' else handle\n",
    "    for handle, label in zip(handles, labels)\n",
    "]\n",
    "\n",
    "ax.legend(handles=handles, loc='upper right')\n",
    "\n",
    "ax.set_xlabel('CPU Allocation in vCPUs')\n",
    "ax.set_ylabel('Execution Duration in ms')\n",
    "\n",
    "ax.yaxis.set_major_locator(ticker.MultipleLocator(50))\n",
    "\n",
    "ax.set_xlim(0, 1)\n",
    "ax.set_ylim(0, 400)\n",
    "ax.grid(alpha=0.2)\n",
    "\n",
    "ax.set_title('Memory Size 512 MB', pad=10, fontsize=10)\n",
    "\n",
    "draw_vertical_double_arrow(ax, x=0.05, y_range=(50, 150), bar_range=(0.03, 0.08), color='black', bar_width=0.03, zorder=20)\n",
    "draw_vertical_double_arrow(ax, x=0.05, y_range=(150, 250), bar_range=(0.03, 0.08), color='black', bar_width=0.03, zorder=20)\n",
    "draw_vertical_double_arrow(ax, x=0.05, y_range=(250, 350), bar_range=(0.03, 0.08), color='black', bar_width=0.03, zorder=20)\n",
    "\n",
    "\n",
    "draw_vertical_double_arrow(ax, x=0.2, y_range=(15, 95), bar_range=(0.18, 0.22), color='black', linestyle='--', bar_width=0.03, zorder=20)\n",
    "draw_vertical_double_arrow(ax, x=0.2, y_range=(95, 195), bar_range=(0.18, 0.22), color='black', linestyle='--',  bar_width=0.03, zorder=20)\n",
    "draw_vertical_double_arrow(ax, x=0.2, y_range=(195, 295), bar_range=(0.1, 0.22), color='black', linestyle='--', bar_width=0.03, zorder=20)\n",
    "draw_vertical_double_arrow(ax, x=0.2, y_range=(295, 390), bar_range=(0.1, 0.22), color='black', linestyle='--', bar_width=0.03, zorder=20)\n",
    "\n",
    "draw_vertical_measure(\n",
    "    ax,\n",
    "    x=0.65,\n",
    "    y_range=(70, 170),\n",
    "    label='Quantization\\n Jumps',\n",
    "    color='black',\n",
    "    bar_width=0.04,\n",
    "    linewidth=1,\n",
    "    zorder=10,\n",
    "    text_offset=(0.02, 0)\n",
    ")\n",
    "\n",
    "draw_vertical_measure(\n",
    "    ax,\n",
    "    x=0.6,\n",
    "    y_range=(70, 170),\n",
    "    label='',\n",
    "    color='black',\n",
    "    bar_width=0.04,\n",
    "    linewidth=1,\n",
    "    linestyle='--',\n",
    "    zorder=10,\n",
    "    text_offset=(0.02, 0)\n",
    ")\n",
    "\n",
    "plt.tight_layout()\n",
    "fig.savefig('figures/overallocation_gcp.pdf')\n",
    "print(\"Figure saved to 'figures/overallocation_gcp.pdf'\")\n",
    "plt.show()\n"
   ]
  },
  {
   "cell_type": "code",
   "execution_count": null,
   "metadata": {},
   "outputs": [],
   "source": []
  }
 ],
 "metadata": {
  "kernelspec": {
   "display_name": "venv",
   "language": "python",
   "name": "python3"
  },
  "language_info": {
   "codemirror_mode": {
    "name": "ipython",
    "version": 3
   },
   "file_extension": ".py",
   "mimetype": "text/x-python",
   "name": "python",
   "nbconvert_exporter": "python",
   "pygments_lexer": "ipython3",
   "version": "3.12.3"
  }
 },
 "nbformat": 4,
 "nbformat_minor": 2
}
