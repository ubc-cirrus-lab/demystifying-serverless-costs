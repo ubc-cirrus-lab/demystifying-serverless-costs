{
 "cells": [
  {
   "cell_type": "code",
   "execution_count": 1,
   "id": "df9397e5",
   "metadata": {},
   "outputs": [],
   "source": [
    "import pandas as pd\n",
    "import os\n",
    "import pickle"
   ]
  },
  {
   "cell_type": "code",
   "execution_count": 2,
   "id": "5ddae67d",
   "metadata": {},
   "outputs": [
    {
     "name": "stdout",
     "output_type": "stream",
     "text": [
      "================================================================================\n",
      "Request CPU Time\n",
      "--------------------------------------------------------------------------------\n"
     ]
    }
   ],
   "source": [
    "print(\"=\"*80)\n",
    "print(\"Request CPU Time\")\n",
    "print(\"-\"*80)"
   ]
  },
  {
   "cell_type": "markdown",
   "id": "4190c18b",
   "metadata": {},
   "source": [
    "## Read Traces"
   ]
  },
  {
   "cell_type": "code",
   "execution_count": 3,
   "id": "13b2eef9",
   "metadata": {},
   "outputs": [],
   "source": [
    "# Get trace data dir from CURRENT_DIR/../data.env\n",
    "with open( '../data.env') as f:\n",
    "    for line in f:\n",
    "        if line.startswith('TRACE_DATA_DIR'):\n",
    "            TRACE_DATA_DIR = line.split('=')[1].strip()\n",
    "            break\n",
    "TRACES_PATH = os.path.join(TRACE_DATA_DIR, 'public_request_tables')"
   ]
  },
  {
   "cell_type": "code",
   "execution_count": 4,
   "id": "fce8aa10",
   "metadata": {},
   "outputs": [],
   "source": [
    "TRACES_PATH = os.path.join(TRACES_PATH, 'huawei_25_traces_request_usage_rt.pkl')"
   ]
  },
  {
   "cell_type": "code",
   "execution_count": 5,
   "id": "f21cfaaf",
   "metadata": {},
   "outputs": [],
   "source": [
    "with open(TRACES_PATH, \"rb\") as f:\n",
    "    traces = pickle.load(f)"
   ]
  },
  {
   "cell_type": "code",
   "execution_count": 6,
   "id": "32ab1ca7",
   "metadata": {},
   "outputs": [
    {
     "data": {
      "text/plain": [
       "(947970744, 4)"
      ]
     },
     "execution_count": 6,
     "metadata": {},
     "output_type": "execute_result"
    }
   ],
   "source": [
    "traces.shape"
   ]
  },
  {
   "cell_type": "code",
   "execution_count": 7,
   "id": "c22da80c",
   "metadata": {},
   "outputs": [],
   "source": [
    "traces['cpu_time'] = traces['cpu_usage'] * traces['runtimeCost']"
   ]
  },
  {
   "cell_type": "code",
   "execution_count": 8,
   "id": "6889d8a1",
   "metadata": {},
   "outputs": [
    {
     "data": {
      "text/html": [
       "<div>\n",
       "<style scoped>\n",
       "    .dataframe tbody tr th:only-of-type {\n",
       "        vertical-align: middle;\n",
       "    }\n",
       "\n",
       "    .dataframe tbody tr th {\n",
       "        vertical-align: top;\n",
       "    }\n",
       "\n",
       "    .dataframe thead th {\n",
       "        text-align: right;\n",
       "    }\n",
       "</style>\n",
       "<table border=\"1\" class=\"dataframe\">\n",
       "  <thead>\n",
       "    <tr style=\"text-align: right;\">\n",
       "      <th></th>\n",
       "      <th>podID</th>\n",
       "      <th>runtimeCost</th>\n",
       "      <th>cpu_usage</th>\n",
       "      <th>memory_usage</th>\n",
       "      <th>cpu_time</th>\n",
       "    </tr>\n",
       "  </thead>\n",
       "  <tbody>\n",
       "    <tr>\n",
       "      <th>0</th>\n",
       "      <td>pool24-600-512-0004546402</td>\n",
       "      <td>0.058268</td>\n",
       "      <td>0.600000</td>\n",
       "      <td>313.187500</td>\n",
       "      <td>0.034961</td>\n",
       "    </tr>\n",
       "    <tr>\n",
       "      <th>1</th>\n",
       "      <td>pool22-300-128-0003702527</td>\n",
       "      <td>0.334085</td>\n",
       "      <td>0.098253</td>\n",
       "      <td>49.406250</td>\n",
       "      <td>0.032825</td>\n",
       "    </tr>\n",
       "    <tr>\n",
       "      <th>2</th>\n",
       "      <td>pool26-1000-1024-0001996304</td>\n",
       "      <td>0.183630</td>\n",
       "      <td>0.174525</td>\n",
       "      <td>51.027344</td>\n",
       "      <td>0.032048</td>\n",
       "    </tr>\n",
       "    <tr>\n",
       "      <th>3</th>\n",
       "      <td>pool24-600-512-0006653892</td>\n",
       "      <td>0.047347</td>\n",
       "      <td>0.433650</td>\n",
       "      <td>307.187500</td>\n",
       "      <td>0.020532</td>\n",
       "    </tr>\n",
       "    <tr>\n",
       "      <th>4</th>\n",
       "      <td>pool22-300-128-0004007403</td>\n",
       "      <td>0.184775</td>\n",
       "      <td>0.152065</td>\n",
       "      <td>45.281250</td>\n",
       "      <td>0.028098</td>\n",
       "    </tr>\n",
       "  </tbody>\n",
       "</table>\n",
       "</div>"
      ],
      "text/plain": [
       "                         podID  runtimeCost  cpu_usage  memory_usage  cpu_time\n",
       "0    pool24-600-512-0004546402     0.058268   0.600000    313.187500  0.034961\n",
       "1    pool22-300-128-0003702527     0.334085   0.098253     49.406250  0.032825\n",
       "2  pool26-1000-1024-0001996304     0.183630   0.174525     51.027344  0.032048\n",
       "3    pool24-600-512-0006653892     0.047347   0.433650    307.187500  0.020532\n",
       "4    pool22-300-128-0004007403     0.184775   0.152065     45.281250  0.028098"
      ]
     },
     "execution_count": 8,
     "metadata": {},
     "output_type": "execute_result"
    }
   ],
   "source": [
    "traces.head()"
   ]
  },
  {
   "cell_type": "code",
   "execution_count": 9,
   "id": "3379c87e",
   "metadata": {},
   "outputs": [],
   "source": [
    "traces = traces[traces['cpu_time']!=0.0]"
   ]
  },
  {
   "cell_type": "code",
   "execution_count": 10,
   "id": "95436349",
   "metadata": {},
   "outputs": [
    {
     "data": {
      "text/plain": [
       "(587610349, 5)"
      ]
     },
     "execution_count": 10,
     "metadata": {},
     "output_type": "execute_result"
    }
   ],
   "source": [
    "traces.shape"
   ]
  },
  {
   "cell_type": "code",
   "execution_count": 11,
   "id": "7a4274c1",
   "metadata": {},
   "outputs": [
    {
     "name": "stdout",
     "output_type": "stream",
     "text": [
      "Average CPU time: 51.765ms\n"
     ]
    }
   ],
   "source": [
    "print(f\"Average CPU time: {traces['cpu_time'].mean()*1000:.3f}ms\")\n"
   ]
  },
  {
   "cell_type": "code",
   "execution_count": null,
   "id": "4afa1a94",
   "metadata": {},
   "outputs": [],
   "source": []
  }
 ],
 "metadata": {
  "kernelspec": {
   "display_name": "venv",
   "language": "python",
   "name": "python3"
  },
  "language_info": {
   "codemirror_mode": {
    "name": "ipython",
    "version": 3
   },
   "file_extension": ".py",
   "mimetype": "text/x-python",
   "name": "python",
   "nbconvert_exporter": "python",
   "pygments_lexer": "ipython3",
   "version": "3.12.3"
  }
 },
 "nbformat": 4,
 "nbformat_minor": 5
}
