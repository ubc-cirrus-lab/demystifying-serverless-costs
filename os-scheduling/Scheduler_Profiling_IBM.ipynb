{
 "cells": [
  {
   "cell_type": "markdown",
   "metadata": {},
   "source": [
    "# Scheduler Profiling (IBM)"
   ]
  },
  {
   "cell_type": "code",
   "execution_count": 1,
   "metadata": {},
   "outputs": [],
   "source": [
    "import os\n",
    "import json\n",
    "import numpy as np\n",
    "from matplotlib import pyplot as plt\n",
    "import re\n",
    "import math\n",
    "import matplotlib.lines as mlines\n",
    "from mpl_toolkits.axes_grid1.inset_locator import zoomed_inset_axes, mark_inset\n",
    "import seaborn as sns"
   ]
  },
  {
   "cell_type": "code",
   "execution_count": 2,
   "metadata": {},
   "outputs": [
    {
     "name": "stdout",
     "output_type": "stream",
     "text": [
      "================================================================================\n",
      "Scheduler Profiling (IBM)\n",
      "--------------------------------------------------------------------------------\n"
     ]
    }
   ],
   "source": [
    "print(\"=\"*80)\n",
    "print(\"Scheduler Profiling (IBM)\")\n",
    "print(\"-\"*80)"
   ]
  },
  {
   "cell_type": "code",
   "execution_count": 3,
   "metadata": {},
   "outputs": [],
   "source": [
    "# ensure figures dir exists\n",
    "os.makedirs('figures', exist_ok=True)"
   ]
  },
  {
   "cell_type": "markdown",
   "metadata": {},
   "source": [
    "## Read Execution Logs"
   ]
  },
  {
   "cell_type": "code",
   "execution_count": 4,
   "metadata": {},
   "outputs": [],
   "source": [
    "FUNCTION_DATA_DIR = \"../dataset/scheduler_profiling/ibm\"\n",
    "LOCAL_PROFILE_DATA_DIR = \"../dataset/scheduler_profiling/local\""
   ]
  },
  {
   "cell_type": "code",
   "execution_count": 5,
   "metadata": {},
   "outputs": [],
   "source": [
    "function_log_data = {}\n",
    "for filename in os.listdir(FUNCTION_DATA_DIR):\n",
    "    if filename.endswith(\".json\"):\n",
    "        key = filename.replace(\".json\", \"\")\n",
    "        if function_log_data.get(key) is None:\n",
    "            function_log_data[key] = []\n",
    "        with open(os.path.join(FUNCTION_DATA_DIR, filename), \"r\") as f:\n",
    "            function_log_data[key] += json.load(f)"
   ]
  },
  {
   "cell_type": "code",
   "execution_count": 6,
   "metadata": {},
   "outputs": [],
   "source": [
    "local_log_data = {}\n",
    "for filename in os.listdir(LOCAL_PROFILE_DATA_DIR):\n",
    "    if filename.endswith(\".json\"):\n",
    "        key = filename.replace(\".json\", \"\")\n",
    "        if local_log_data.get(key) is None:\n",
    "            local_log_data[key] = []\n",
    "        with open(os.path.join(LOCAL_PROFILE_DATA_DIR, filename), \"r\") as f:\n",
    "            local_log_data[key] += json.load(f)"
   ]
  },
  {
   "cell_type": "code",
   "execution_count": 7,
   "metadata": {},
   "outputs": [],
   "source": [
    "function_data = {}\n",
    "for key, value in function_log_data.items():\n",
    "    prefix = key.split(\"-\")[:2]\n",
    "    prefix = \"-\".join(prefix)\n",
    "    if function_data.get(prefix) is None:\n",
    "        function_data[prefix] = []\n",
    "    function_data[prefix] += value\n",
    "\n",
    "local_data = {}\n",
    "for key, value in local_log_data.items():\n",
    "    prefix = key.split(\"-\")[:3]\n",
    "    prefix = \"-\".join(prefix)\n",
    "    if local_data.get(prefix) is None:\n",
    "        local_data[prefix] = []\n",
    "    local_data[prefix] += value"
   ]
  },
  {
   "cell_type": "code",
   "execution_count": 8,
   "metadata": {},
   "outputs": [],
   "source": [
    "for k, v in function_data.items():\n",
    "    function_data[k] = [x['data']['data'] for x in v]\n",
    "\n",
    "for k, v in local_data.items():\n",
    "    local_data[k] = [json.loads(x['data']['body'])['data'] for x in v]"
   ]
  },
  {
   "cell_type": "code",
   "execution_count": 9,
   "metadata": {},
   "outputs": [],
   "source": [
    "for k, v in function_data.items():\n",
    "    function_data[k] = [x for x in v if isinstance(x, list) and len(x) > 0]\n",
    "\n",
    "for k, v in local_data.items():\n",
    "    local_data[k] = [x for x in v if isinstance(x, list) and len(x) > 0]"
   ]
  },
  {
   "cell_type": "code",
   "execution_count": 10,
   "metadata": {},
   "outputs": [],
   "source": [
    "for k, v in function_data.items():\n",
    "    function_data[k] = [x[15:315] for x in v]"
   ]
  },
  {
   "cell_type": "code",
   "execution_count": 11,
   "metadata": {},
   "outputs": [],
   "source": [
    "function_data = {k: v for k, v in function_data.items() if \"ibm\" in k}"
   ]
  },
  {
   "cell_type": "code",
   "execution_count": 12,
   "metadata": {},
   "outputs": [],
   "source": [
    "# rename the keys\n",
    "function_data['0.25'] = function_data['ibm-250m']\n",
    "function_data['0.5'] = function_data['ibm-500m']\n",
    "\n",
    "del function_data['ibm-250m']\n",
    "del function_data['ibm-500m']"
   ]
  },
  {
   "cell_type": "markdown",
   "metadata": {},
   "source": [
    "## Calculation"
   ]
  },
  {
   "cell_type": "markdown",
   "metadata": {},
   "source": [
    "### Throttle Duration"
   ]
  },
  {
   "cell_type": "code",
   "execution_count": 13,
   "metadata": {},
   "outputs": [],
   "source": [
    "cloud_throttled_duration_data = {}\n",
    "for k, v in function_data.items():\n",
    "    cloud_throttled_duration_data[k] = []\n",
    "    for x in v:\n",
    "        cloud_throttled_duration_data[k] += [y[1] for y in x[1:]]\n",
    "\n",
    "local_throttled_duration_data = {}\n",
    "local_throttled_duration_data['P10Q2.5'] = []\n",
    "for x in local_data['local-CFS-H250P10000Q2500']:\n",
    "    local_throttled_duration_data['P10Q2.5'] += [y[1] for y in x[1:]]\n",
    "local_throttled_duration_data['P10Q5'] = []\n",
    "for x in local_data['local-CFS-H250P10000Q5000']:\n",
    "    local_throttled_duration_data['P10Q5'] += [y[1] for y in x[1:]]"
   ]
  },
  {
   "cell_type": "code",
   "execution_count": 14,
   "metadata": {},
   "outputs": [],
   "source": [
    "# convert ns to ms\n",
    "for k, v in local_throttled_duration_data.items():\n",
    "    local_throttled_duration_data[k] = [x / 1e6 for x in v]"
   ]
  },
  {
   "cell_type": "markdown",
   "metadata": {},
   "source": [
    "### Run Time"
   ]
  },
  {
   "cell_type": "code",
   "execution_count": 15,
   "metadata": {},
   "outputs": [],
   "source": [
    "def compute_obtained_cpu_times(nested_event_lists):\n",
    "    obtained_times = []\n",
    "    for event_list in nested_event_lists:\n",
    "        if len(event_list) < 2:\n",
    "            continue\n",
    "        for (t_prev, _), (t_curr, c_curr) in zip(event_list, event_list[1:]):\n",
    "            obtained_times.append((t_curr - t_prev) - c_curr)\n",
    "    return obtained_times"
   ]
  },
  {
   "cell_type": "code",
   "execution_count": 16,
   "metadata": {},
   "outputs": [],
   "source": [
    "cloud_runtime_data = {}\n",
    "for k, v in function_data.items():\n",
    "    cloud_runtime_data[k] = compute_obtained_cpu_times(v)\n",
    "\n",
    "local_runtime_data = {}\n",
    "local_runtime_data['P10Q5'] = compute_obtained_cpu_times(local_data['local-CFS-H250P10000Q2500'])\n",
    "local_runtime_data['P10Q10'] = compute_obtained_cpu_times(local_data['local-CFS-H250P10000Q5000'])\n"
   ]
  },
  {
   "cell_type": "code",
   "execution_count": 17,
   "metadata": {},
   "outputs": [],
   "source": [
    "# convert ns to ms\n",
    "for k, v in local_runtime_data.items():\n",
    "    local_runtime_data[k] = [x / 1e6 for x in v]"
   ]
  },
  {
   "cell_type": "code",
   "execution_count": 18,
   "metadata": {},
   "outputs": [],
   "source": [
    "for k, v in cloud_runtime_data.items():\n",
    "    cloud_runtime_data[k] = [x for x in v if x < 500]"
   ]
  },
  {
   "cell_type": "markdown",
   "metadata": {},
   "source": [
    "### Throttle Interval"
   ]
  },
  {
   "cell_type": "code",
   "execution_count": 19,
   "metadata": {},
   "outputs": [],
   "source": [
    "def calculate_throttle_interval(tuple_list):\n",
    "    intervals = []\n",
    "    for chunk in tuple_list:\n",
    "        for prev, nxt in zip(chunk, chunk[1:]):\n",
    "            t_prev = prev[0]\n",
    "            t_next = nxt[0]\n",
    "            intervals.append(t_next - t_prev)\n",
    "    return intervals"
   ]
  },
  {
   "cell_type": "code",
   "execution_count": 20,
   "metadata": {},
   "outputs": [],
   "source": [
    "cloud_throttle_interval_data = {}\n",
    "\n",
    "for k, v in function_data.items():\n",
    "    cloud_throttle_interval_data[k] = calculate_throttle_interval(v)\n",
    "\n",
    "local_throttle_interval_data = {}\n",
    "local_throttle_interval_data['P10Q5'] = calculate_throttle_interval(local_data['local-CFS-H250P10000Q2500'])\n",
    "local_throttle_interval_data['P10Q10'] = calculate_throttle_interval(local_data['local-CFS-H250P10000Q5000'])\n"
   ]
  },
  {
   "cell_type": "code",
   "execution_count": 21,
   "metadata": {},
   "outputs": [],
   "source": [
    "# convert ns to ms\n",
    "for k, v in local_throttle_interval_data.items():\n",
    "    local_throttle_interval_data[k] = [x / 1e6 for x in v]"
   ]
  },
  {
   "cell_type": "markdown",
   "metadata": {},
   "source": [
    "## Plotting"
   ]
  },
  {
   "cell_type": "code",
   "execution_count": 22,
   "metadata": {},
   "outputs": [
    {
     "name": "stdout",
     "output_type": "stream",
     "text": [
      "Figure saved to figures/scheduler_profiling_ibm.pdf\n"
     ]
    },
    {
     "data": {
      "image/png": "[encoded data removed]",
      "text/plain": [
       "<Figure size 840x350 with 3 Axes>"
      ]
     },
     "metadata": {},
     "output_type": "display_data"
    }
   ],
   "source": [
    "fig, (ax1, ax2, ax3) = plt.subplots(1, 3, figsize=(8.4, 3.5))\n",
    "palette = sns.color_palette(\"gist_earth\", n_colors=2)\n",
    "color_map = {flavor: palette[i] for i, flavor in enumerate(cloud_throttle_interval_data)}\n",
    "\n",
    "dashed_line_styles_list = ['dashed', 'dashdot']\n",
    "dashed_line_colors_list = ['darkred', 'darkgreen']\n",
    "\n",
    "for i, flavor in enumerate(cloud_throttle_interval_data):\n",
    "    data = [x for x in cloud_throttle_interval_data[flavor] if x > 0]\n",
    "    data.sort()\n",
    "    yvals = np.arange(1, len(data) + 1) / len(data)\n",
    "    ax1.plot(data, yvals, label=flavor, lw=8, color=color_map[flavor], alpha=0.8)\n",
    "\n",
    "for i, flavor in enumerate(local_throttle_interval_data):\n",
    "    data = [x for x in local_throttle_interval_data[flavor] if x > 0]\n",
    "    data.sort()\n",
    "    yvals = np.arange(1, len(data) + 1) / len(data)\n",
    "    ax1.plot(data, yvals, label=flavor, linestyle=dashed_line_styles_list[i], lw=2, zorder=1000, color=dashed_line_colors_list[i])\n",
    "\n",
    "ax1.grid(alpha=0.5, linestyle='--')\n",
    "ax1.set_xlabel(\"Throttle Intervals (ms)\", fontsize=14)\n",
    "ax1.set_ylabel(\"CDF\", fontsize=14)\n",
    "ax1.set_xlim(0, 40)\n",
    "ax1.tick_params(axis='both', labelsize=12)\n",
    "\n",
    "for i, flavor in enumerate(cloud_runtime_data):\n",
    "    data = [x for x in cloud_runtime_data[flavor] if x > 0]\n",
    "    data.sort()\n",
    "    yvals = np.arange(1, len(data) + 1) / len(data)\n",
    "    ax2.plot(data, yvals, label=flavor, lw=8, color=color_map[flavor], alpha=0.8)\n",
    "\n",
    "for i, flavor in enumerate(local_runtime_data):\n",
    "    data = [x for x in local_runtime_data[flavor] if x > 0]\n",
    "    data.sort()\n",
    "    yvals = np.arange(1, len(data) + 1) / len(data)\n",
    "    ax2.plot(data, yvals, label=flavor, linestyle=dashed_line_styles_list[i], lw=2, zorder=1000, color=dashed_line_colors_list[i])\n",
    "\n",
    "cloud_handles = [\n",
    "    mlines.Line2D([], [], color=color_map[lbl], label=lbl, lw=8, alpha=0.8)\n",
    "    for lbl in [\"0.25\", \"0.5\"]\n",
    "]\n",
    "local_handles = [\n",
    "    mlines.Line2D([], [], color=dashed_line_colors_list[i], linestyle=dashed_line_styles_list[i], lw=1.5, label=lbl)\n",
    "    for i, lbl in enumerate([\"P10Q2.5\", \"P10Q5\"])\n",
    "]\n",
    "leg1 = ax2.legend(handles=cloud_handles, title=\"vCPUs\",\n",
    "                  fontsize=11, title_fontsize=11,\n",
    "                  loc='upper right', bbox_to_anchor=(1.03, 0.95))\n",
    "ax2.add_artist(leg1)\n",
    "leg2 = ax2.legend(handles=local_handles, title=\"Local Run\\nCFS\\nFreq. 250 Hz\",\n",
    "                  fontsize=11, title_fontsize=11,\n",
    "                  loc='upper right', bbox_to_anchor=(1.03, 0.6))\n",
    "ax2.add_artist(leg2)\n",
    "\n",
    "ax2.grid(alpha=0.5, linestyle='--')\n",
    "ax2.set_xlabel(\"Obtained CPU Time (ms)\", fontsize=14)\n",
    "ax2.set_ylabel(\"CDF\", fontsize=14)\n",
    "ax2.set_xlim(0, 20)\n",
    "ax2.tick_params(axis='both', labelsize=12)\n",
    "\n",
    "for i, flavor in enumerate(cloud_throttled_duration_data):\n",
    "    data = [x for x in cloud_throttled_duration_data[flavor] if x > 0]\n",
    "    data.sort()\n",
    "    yvals = np.arange(1, len(data) + 1) / len(data)\n",
    "    ax3.plot(data, yvals, label=flavor, zorder=100 - int(float(flavor)*100), lw=8, color=color_map[flavor], alpha=0.8)\n",
    "\n",
    "for i, flavor in enumerate(local_throttled_duration_data):\n",
    "    data = [x for x in local_throttled_duration_data[flavor] if x > 0]\n",
    "    data.sort()\n",
    "    yvals = np.arange(1, len(data) + 1) / len(data)\n",
    "    ax3.plot(data, yvals, label=flavor, linestyle=dashed_line_styles_list[i], lw=2, zorder=1000, color=dashed_line_colors_list[i])\n",
    "\n",
    "ax3.grid(alpha=0.5, linestyle='--')\n",
    "ax3.set_xlabel(\"Throttle Duration (ms)\", fontsize=14)\n",
    "ax3.set_ylabel(\"CDF\", fontsize=14)\n",
    "ax3.set_xlim(0, 40)\n",
    "ax3.tick_params(axis='both', labelsize=12)\n",
    "\n",
    "plt.tight_layout()\n",
    "fig.savefig(\"figures/scheduler_profiling_ibm.pdf\")\n",
    "print(\"Figure saved to figures/scheduler_profiling_ibm.pdf\")\n",
    "plt.show()\n"
   ]
  },
  {
   "cell_type": "code",
   "execution_count": null,
   "metadata": {},
   "outputs": [],
   "source": []
  }
 ],
 "metadata": {
  "kernelspec": {
   "display_name": "venv",
   "language": "python",
   "name": "python3"
  },
  "language_info": {
   "codemirror_mode": {
    "name": "ipython",
    "version": 3
   },
   "file_extension": ".py",
   "mimetype": "text/x-python",
   "name": "python",
   "nbconvert_exporter": "python",
   "pygments_lexer": "ipython3",
   "version": "3.12.3"
  }
 },
 "nbformat": 4,
 "nbformat_minor": 2
}
