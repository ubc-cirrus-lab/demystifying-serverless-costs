{
 "cells": [
  {
   "cell_type": "markdown",
   "id": "e6de9ea0",
   "metadata": {},
   "source": [
    "# Request Serving Architecture Overhead"
   ]
  },
  {
   "cell_type": "code",
   "execution_count": 1,
   "id": "6c898f6b",
   "metadata": {},
   "outputs": [],
   "source": [
    "import os\n",
    "import json\n",
    "import numpy as np\n",
    "import pandas as pd\n",
    "from matplotlib import pyplot as plt\n",
    "import re"
   ]
  },
  {
   "cell_type": "code",
   "execution_count": 2,
   "id": "c176b569",
   "metadata": {},
   "outputs": [
    {
     "name": "stdout",
     "output_type": "stream",
     "text": [
      "================================================================================\n",
      "Request Serving Architecture Overhead\n",
      "--------------------------------------------------------------------------------\n"
     ]
    }
   ],
   "source": [
    "print(\"=\"*80)\n",
    "print(\"Request Serving Architecture Overhead\")\n",
    "print(\"-\"*80)"
   ]
  },
  {
   "cell_type": "code",
   "execution_count": 3,
   "id": "a836d79e",
   "metadata": {},
   "outputs": [],
   "source": [
    "# ensure figures dir exists\n",
    "os.makedirs('figures', exist_ok=True)"
   ]
  },
  {
   "cell_type": "markdown",
   "id": "a6bad03f",
   "metadata": {},
   "source": [
    "## Read Data"
   ]
  },
  {
   "cell_type": "code",
   "execution_count": 4,
   "id": "cc1efb06",
   "metadata": {},
   "outputs": [],
   "source": [
    "REQUEST_LOG_DIR = '../dataset/serving_architecture'"
   ]
  },
  {
   "cell_type": "code",
   "execution_count": 5,
   "id": "7c4e867e",
   "metadata": {},
   "outputs": [],
   "source": [
    "# read aws data\n",
    "with open(os.path.join(REQUEST_LOG_DIR, \"aws128/cloudwatch.json\")) as f:\n",
    "    aws_128mb = json.load(f)\n",
    "\n",
    "with open(os.path.join(REQUEST_LOG_DIR, \"aws1769/cloudwatch.json\")) as f:\n",
    "    aws_1769mb = json.load(f)"
   ]
  },
  {
   "cell_type": "code",
   "execution_count": 6,
   "id": "64f7700d",
   "metadata": {},
   "outputs": [],
   "source": [
    "# read gcp data\n",
    "with open(os.path.join(REQUEST_LOG_DIR, \"gcp80mc/cloud-log.json\")) as f:\n",
    "    gcp_80mc = json.load(f)\n",
    "\n",
    "with open(os.path.join(REQUEST_LOG_DIR, \"gcp1000mc/cloud-log.json\")) as f:\n",
    "    gcp_1000mc = json.load(f)"
   ]
  },
  {
   "cell_type": "code",
   "execution_count": 7,
   "id": "103e220d",
   "metadata": {},
   "outputs": [],
   "source": [
    "# read azure data\n",
    "azure_consumption = pd.read_csv(os.path.join(REQUEST_LOG_DIR, \"azure-consumption/query_data.csv\"))"
   ]
  },
  {
   "cell_type": "code",
   "execution_count": 8,
   "id": "362c9b50",
   "metadata": {},
   "outputs": [],
   "source": [
    "azure_customDimensions = azure_consumption['customDimensions'].to_list()\n",
    "azure_customDimensions = [json.loads(x) for x in azure_customDimensions]"
   ]
  },
  {
   "cell_type": "markdown",
   "id": "6f27f7e4",
   "metadata": {},
   "source": [
    "## Process Data"
   ]
  },
  {
   "cell_type": "code",
   "execution_count": 9,
   "id": "c935c3d1",
   "metadata": {},
   "outputs": [],
   "source": [
    "aws_128mb = [x for x in aws_128mb if \"Duration:\" in x[\"message\"]]\n",
    "aws_1769mb = [x for x in aws_1769mb if \"Duration:\" in x[\"message\"]]\n",
    "aws_128mb = [float(re.search(r\"Duration: ([0-9.]+)\", x[\"message\"]).group(1)) for x in aws_128mb]\n",
    "aws_1769mb = [float(re.search(r\"Duration: ([0-9.]+)\", x[\"message\"]).group(1)) for x in aws_1769mb]"
   ]
  },
  {
   "cell_type": "code",
   "execution_count": 10,
   "id": "838a5ced",
   "metadata": {},
   "outputs": [],
   "source": [
    "gcp_80mc = [x for x in gcp_80mc if \"latency\" in x['httpRequest'].keys()]\n",
    "gcp_1000mc = [x for x in gcp_1000mc if \"latency\" in x['httpRequest'].keys()]\n",
    "gcp_80mc = [float(x['httpRequest']['latency'].split(\"s\")[0]) * 1000 for x in gcp_80mc]\n",
    "gcp_1000mc = [float(x['httpRequest']['latency'].split(\"s\")[0]) * 1000 for x in gcp_1000mc]"
   ]
  },
  {
   "cell_type": "code",
   "execution_count": 11,
   "id": "4a7378ed",
   "metadata": {},
   "outputs": [],
   "source": [
    "azure_consumption = azure_consumption['duration'].to_list()"
   ]
  },
  {
   "cell_type": "code",
   "execution_count": 12,
   "id": "11d72bca",
   "metadata": {},
   "outputs": [],
   "source": [
    "# keep the 4000 data points in the middle\n",
    "aws_128mb = aws_128mb[500:4500]\n",
    "aws_1769mb = aws_1769mb[500:4500]\n",
    "gcp_80mc = gcp_80mc[500:4500]\n",
    "gcp_1000mc = gcp_1000mc[500:4500]\n",
    "azure_consumption = azure_consumption[500:4500]"
   ]
  },
  {
   "cell_type": "code",
   "execution_count": 13,
   "id": "ce7a062f",
   "metadata": {},
   "outputs": [
    {
     "data": {
      "text/plain": [
       "np.float64(2.36920772125)"
      ]
     },
     "execution_count": 13,
     "metadata": {},
     "output_type": "execute_result"
    }
   ],
   "source": [
    "np.mean(gcp_1000mc)"
   ]
  },
  {
   "cell_type": "code",
   "execution_count": 14,
   "id": "320bdbf8",
   "metadata": {},
   "outputs": [
    {
     "data": {
      "text/plain": [
       "np.float64(5.927323599999999)"
      ]
     },
     "execution_count": 14,
     "metadata": {},
     "output_type": "execute_result"
    }
   ],
   "source": [
    "np.mean(azure_consumption)"
   ]
  },
  {
   "cell_type": "code",
   "execution_count": 15,
   "id": "2fbc6883",
   "metadata": {},
   "outputs": [
    {
     "data": {
      "text/plain": [
       "(np.float64(1.1726050000000001),\n",
       " np.float64(1.130515),\n",
       " np.float64(5.23529820125),\n",
       " np.float64(2.36920772125),\n",
       " np.float64(5.927323599999999))"
      ]
     },
     "execution_count": 15,
     "metadata": {},
     "output_type": "execute_result"
    }
   ],
   "source": [
    "np.mean(aws_128mb), np.mean(aws_1769mb), np.mean(gcp_80mc), np.mean(gcp_1000mc), np.mean(azure_consumption)"
   ]
  },
  {
   "cell_type": "markdown",
   "id": "186292ff",
   "metadata": {},
   "source": [
    "## Plotting"
   ]
  },
  {
   "cell_type": "code",
   "execution_count": 16,
   "id": "31e4afdd",
   "metadata": {},
   "outputs": [
    {
     "name": "stdout",
     "output_type": "stream",
     "text": [
      "Figure saved to figures/empty_function_latency.pdf\n"
     ]
    },
    {
     "data": {
      "image/png": "[encoded data removed]",
      "text/plain": [
       "<Figure size 640x280 with 1 Axes>"
      ]
     },
     "metadata": {},
     "output_type": "display_data"
    }
   ],
   "source": [
    "data = [\n",
    "    aws_128mb,\n",
    "    aws_1769mb,\n",
    "    gcp_80mc,\n",
    "    gcp_1000mc,\n",
    "    azure_consumption,\n",
    "    np.zeros_like(aws_128mb),\n",
    "]\n",
    "positions = [1, 2, 3, 4, 5, 6]\n",
    "labels = ['AWS\\n128MB', 'AWS\\n1769MB', 'GCP\\n0.08vCPUs', 'GCP\\n1vCPU', 'Azure\\nConsumption', 'Cloudflare\\nWorkers']\n",
    "\n",
    "fig, ax = plt.subplots(figsize=(6.4, 2.8))\n",
    "\n",
    "flierprops = {\n",
    "    'marker':        'o',\n",
    "    'markerfacecolor':'white',\n",
    "    'markeredgecolor':'gray',\n",
    "    'markersize':    4,\n",
    "    'linestyle':     'none'\n",
    "}\n",
    "bp = ax.boxplot(\n",
    "    data,\n",
    "    positions=positions,\n",
    "    widths=0.2,\n",
    "    patch_artist=True,\n",
    "    flierprops=flierprops,\n",
    "    boxprops=dict(facecolor='lightgray', color='gray'),\n",
    ")\n",
    "\n",
    "for flier in bp['fliers']:\n",
    "    flier.set_rasterized(True)\n",
    "\n",
    "means = [np.mean(d) for d in data]\n",
    "p95s  = [np.percentile(d, 95) for d in data]\n",
    "\n",
    "ax.scatter(positions, means, marker='x', label='Mean', zorder=100, color='blue')\n",
    "ax.scatter(positions, p95s, marker='^', label='p95', zorder=100, color='red')\n",
    "\n",
    "ax.axvline(x=2.5, color='black', linestyle='--', linewidth=2)\n",
    "ax.axvline(x=5.5, color='black', linestyle='--', linewidth=2)\n",
    "\n",
    "y_max = ax.get_ylim()[1]\n",
    "y_text = 13\n",
    "ax.text((1+2)/2, y_text, 'API Polling', ha='center', va='bottom', fontsize=12)\n",
    "ax.text((3+5)/2, y_text, 'HTTP Server', ha='center', va='bottom', fontsize=12)\n",
    "ax.text(6, 11.5, 'Code/Bin\\nExecution', ha='center', va='bottom', fontsize=12)\n",
    "\n",
    "ax.set_xticks(positions)\n",
    "ax.set_xticklabels(labels, rotation=0, ha='center', fontsize=11)\n",
    "ax.set_ylabel('Duration (ms)', fontsize=14)\n",
    "ax.set_title('Execution Duration of the Minimal Function Reported by Providers')\n",
    "ax.set_ylim(0, 15)\n",
    "ax.grid(axis='y', linestyle='--', alpha=0.7)\n",
    "ax.legend(loc='upper left', fontsize=12, bbox_to_anchor=(-0.01, 0.9))\n",
    "\n",
    "plt.tight_layout()\n",
    "plt.savefig(\"figures/empty_function_latency.pdf\", format='pdf', dpi=300, bbox_inches='tight')\n",
    "print(\"Figure saved to figures/empty_function_latency.pdf\")\n",
    "plt.show()"
   ]
  },
  {
   "cell_type": "code",
   "execution_count": 17,
   "id": "128680ad",
   "metadata": {},
   "outputs": [
    {
     "name": "stdout",
     "output_type": "stream",
     "text": [
      "--------------------------------------------------------------------------------\n",
      "Average Latency:\n",
      "AWS 128MB: 1.17 ms\n",
      "AWS 1769MB: 1.13 ms\n",
      "GCP 0.08vCPUs: 5.24 ms\n",
      "GCP 1vCPU: 2.37 ms\n",
      "Azure Consumption: 5.93 ms\n",
      "Cloudflare Workers: 0.00 ms\n"
     ]
    }
   ],
   "source": [
    "print('-'*80)\n",
    "print(\"Average Latency:\")\n",
    "for x, y in zip(labels, means):\n",
    "    print(f\"{x.replace('\\n', ' ')}: {y:.2f} ms\")"
   ]
  },
  {
   "cell_type": "code",
   "execution_count": 18,
   "id": "2fd7d190",
   "metadata": {},
   "outputs": [
    {
     "name": "stdout",
     "output_type": "stream",
     "text": [
      "--------------------------------------------------------------------------------\n",
      "p95 Latency:\n",
      "AWS 128MB: 1.67 ms\n",
      "AWS 1769MB: 1.63 ms\n",
      "GCP 0.08vCPUs: 6.88 ms\n",
      "GCP 1vCPU: 2.98 ms\n",
      "Azure Consumption: 9.93 ms\n",
      "Cloudflare Workers: 0.00 ms\n"
     ]
    }
   ],
   "source": [
    "print('-'*80)\n",
    "print(\"p95 Latency:\")\n",
    "for x, y in zip(labels, p95s):\n",
    "    print(f\"{x.replace('\\n', ' ')}: {y:.2f} ms\")"
   ]
  },
  {
   "cell_type": "code",
   "execution_count": null,
   "id": "fe7b6ae9",
   "metadata": {},
   "outputs": [],
   "source": []
  }
 ],
 "metadata": {
  "kernelspec": {
   "display_name": "venv",
   "language": "python",
   "name": "python3"
  },
  "language_info": {
   "codemirror_mode": {
    "name": "ipython",
    "version": 3
   },
   "file_extension": ".py",
   "mimetype": "text/x-python",
   "name": "python",
   "nbconvert_exporter": "python",
   "pygments_lexer": "ipython3",
   "version": "3.12.3"
  }
 },
 "nbformat": 4,
 "nbformat_minor": 5
}
